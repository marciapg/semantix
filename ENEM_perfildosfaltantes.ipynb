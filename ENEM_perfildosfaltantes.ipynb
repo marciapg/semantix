{
  "nbformat": 4,
  "nbformat_minor": 0,
  "metadata": {
    "colab": {
      "provenance": [],
      "authorship_tag": "ABX9TyOHFeDtPZRK4lsINgMs9BSb"
    },
    "kernelspec": {
      "name": "python3",
      "display_name": "Python 3"
    },
    "language_info": {
      "name": "python"
    }
  },
  "cells": [
    {
      "cell_type": "markdown",
      "source": [
        "#Análise de perfil de ausentes no ENEM 2019"
      ],
      "metadata": {
        "id": "HHR7QhTH3Mku"
      }
    },
    {
      "cell_type": "markdown",
      "source": [
        "O Enem avalia o desempenho escolar dos estudantes ao término da educação básica. Desde 2014, é uma das principais portas de entrada para a educação superior no Brasil, por meio do Sistema de Seleção Unificada (Sisu).\n",
        "\n",
        "Segundo o presidente do INEP, no período pré pandemia Covid-19, era esperado uma porcentagem entre 22 e 27% de ausentes. Já durante os anos de 2020 e 2021, a ausência aumentou muito, chegando a 51,5%.  \n",
        "\n",
        "Gostaríamos de analisar os dados dos candidatos que se ausentam da prova e, se possível, traçar algum perfil que pudesse ser útil para entender melhor como e porque isso ocorre. \n",
        "\n",
        "Devido às disparidades de ausências no período da pandemia, escolhemos neste momento trabalhar com os dados de 2019, na expectativa que as porcentagens de ausência se reequilibrem no futuro. "
      ],
      "metadata": {
        "id": "7V4jh5Yy3NOd"
      }
    },
    {
      "cell_type": "markdown",
      "source": [
        "##Seleção de dados e variáveis"
      ],
      "metadata": {
        "id": "lJK9iRmj3WMF"
      }
    },
    {
      "cell_type": "markdown",
      "source": [
        "Nessa etapa, excluímos as pessoas que se inscreveram como treineiros.\n",
        "\n",
        "Também selecionamos apenas as colunas que utilizaremos pra a análise dos perfis.\n",
        "A intenção é diminuir os gastos com recursos e agilizar as análises.\n",
        "\n",
        "Em seguida, construímos uma nova coluna, onde definimos os ausentes, eliminados e presentes conforme a seguir:\n",
        "\n",
        "ausência = 0,\n",
        "presença = 1,\n",
        "eliminação = 2 \n",
        "\n",
        "Sendo ausência, referente a ausência em pelo menos uma das provas, eliminação, referente a eliminação em pelo menos uma das provas e presença, referente a presença em TODAS as provas.\n",
        "\n",
        "Iniciaremos as análises a partir desse conjunto de dados já trabalhado, conforme código abaixo."
      ],
      "metadata": {
        "id": "Q2yi7Dvs3eUE"
      }
    },
    {
      "cell_type": "markdown",
      "source": [
        "```\n",
        "from google.colab import drive\n",
        "drive.mount('/content/drive')\n",
        "\n",
        "import pandas as pd\n",
        "enem2019 = pd.read_csv('/content/drive/My Drive/MICRODADOS_ENEM_2019.csv', encoding='latin-1', sep=';')\n",
        "\n",
        "df = enem2019[enem2019['IN_TREINEIRO'] == 0]\n",
        "\n",
        "presenca = df[(df['TP_PRESENCA_CN'] == 1) & (df['TP_PRESENCA_CH'] == 1) & (df['TP_PRESENCA_LC'] == 1) & (df['TP_PRESENCA_MT'] == 1)]\n",
        "eliminado = df[(df['TP_PRESENCA_CN'] == 2) | (df['TP_PRESENCA_CH'] == 2) | (df['TP_PRESENCA_LC'] == 2) | (df['TP_PRESENCA_MT'] == 2)]\n",
        "ausencia = df[(df['TP_PRESENCA_CN'] == 0) | (df['TP_PRESENCA_CH'] == 0) | (df['TP_PRESENCA_LC'] == 0) | (df['TP_PRESENCA_MT'] == 0)]\n",
        "\n",
        "presenca['presenca'] = 1\n",
        "eliminado['presenca'] = 2\n",
        "ausencia['presenca'] = 0\n",
        "\n",
        "novo = pd.concat([presenca, eliminado, ausencia])\n",
        "df_ordenado = novo.sort_index()\n",
        "\n",
        "df_ordenado = df_ordenado[['NU_INSCRICAO', 'TP_FAIXA_ETARIA', 'TP_SEXO',  'TP_ESTADO_CIVIL', \n",
        "         'TP_COR_RACA', 'TP_NACIONALIDADE', 'TP_ST_CONCLUSAO', \n",
        "         'TP_ANO_CONCLUIU', 'TP_ESCOLA', 'TP_ENSINO', \n",
        "         'CO_MUNICIPIO_ESC', 'SG_UF_ESC', 'CO_MUNICIPIO_PROVA', 'SG_UF_PROVA', \n",
        "         'Q001', 'Q002', 'Q003', 'Q004', 'Q005', 'Q006', 'Q007', 'Q008', 'Q009',\n",
        "         'Q010', 'Q011', 'Q012', 'Q013', 'Q014', 'Q015', 'Q016', 'Q017', 'Q018',\n",
        "         'Q019', 'Q020', 'Q021', 'Q022', 'Q023', 'Q024', 'Q025', 'presenca']]\n",
        "\n",
        "df_ordenado.to_csv('MICRODADOS_ENEM_2019_filtrado2.csv', encoding='latin-1', sep=';')\n",
        "```\n",
        "\n"
      ],
      "metadata": {
        "id": "ulzlirXniOyS"
      }
    },
    {
      "cell_type": "markdown",
      "source": [
        "##Análise Descritiva dos perfis de ausentes e presentes"
      ],
      "metadata": {
        "id": "jGFp4M0t3yZm"
      }
    },
    {
      "cell_type": "markdown",
      "source": [
        "Iniciaremos aqui a análise descritiva dos inscrito, ausentes e presentes."
      ],
      "metadata": {
        "id": "IvseGiw537y9"
      }
    },
    {
      "cell_type": "code",
      "source": [
        "#conecção do Colab ao Drive \n",
        "from google.colab import drive\n",
        "drive.mount('/content/drive')"
      ],
      "metadata": {
        "id": "kRSu7nP9yf8m",
        "colab": {
          "base_uri": "https://localhost:8080/"
        },
        "outputId": "865b6ab1-205f-4013-f6e7-337cdc5fb6fe"
      },
      "execution_count": 1,
      "outputs": [
        {
          "output_type": "stream",
          "name": "stdout",
          "text": [
            "Mounted at /content/drive\n"
          ]
        }
      ]
    },
    {
      "cell_type": "code",
      "source": [
        "#importação do pandas e do DataFrame a ser utilizado\n",
        "import pandas as pd\n",
        "df = pd.read_csv('/content/drive/My Drive/MICRODADOS_ENEM_2019_filtrado2.csv', encoding='latin-1', sep=';')"
      ],
      "metadata": {
        "id": "JPlzMrAuyxCG"
      },
      "execution_count": 2,
      "outputs": []
    },
    {
      "cell_type": "code",
      "source": [
        "df.head()"
      ],
      "metadata": {
        "id": "MwbDRZ9xrdce",
        "colab": {
          "base_uri": "https://localhost:8080/",
          "height": 317
        },
        "outputId": "872f1172-98b3-48c2-b968-4938779f6cef"
      },
      "execution_count": 3,
      "outputs": [
        {
          "output_type": "execute_result",
          "data": {
            "text/plain": [
              "   Unnamed: 0  NU_INSCRICAO  TP_FAIXA_ETARIA TP_SEXO  TP_ESTADO_CIVIL  \\\n",
              "0           0  190001595656               13       M                1   \n",
              "1           1  190001421546                8       M                1   \n",
              "2           2  190001133210               13       F                1   \n",
              "3           3  190001199383               10       F                1   \n",
              "4           4  190001237802                7       F                1   \n",
              "\n",
              "   TP_COR_RACA  TP_NACIONALIDADE  TP_ST_CONCLUSAO  TP_ANO_CONCLUIU  TP_ESCOLA  \\\n",
              "0            3                 1                1               11          1   \n",
              "1            1                 1                1                5          1   \n",
              "2            3                 1                1               13          1   \n",
              "3            1                 1                1                4          1   \n",
              "4            1                 1                1                4          1   \n",
              "\n",
              "   ...  Q017  Q018 Q019  Q020 Q021 Q022 Q023 Q024 Q025  presenca  \n",
              "0  ...     A     A    A     A    A    C    A    C    B         0  \n",
              "1  ...     A     A    B     A    A    E    A    A    B         0  \n",
              "2  ...     A     A    B     A    A    C    A    A    B         0  \n",
              "3  ...     A     A    C     A    B    D    A    B    B         1  \n",
              "4  ...     A     A    B     A    A    C    B    B    B         1  \n",
              "\n",
              "[5 rows x 41 columns]"
            ],
            "text/html": [
              "\n",
              "  <div id=\"df-b6795cbd-6a76-4b45-857b-37ac3f217307\">\n",
              "    <div class=\"colab-df-container\">\n",
              "      <div>\n",
              "<style scoped>\n",
              "    .dataframe tbody tr th:only-of-type {\n",
              "        vertical-align: middle;\n",
              "    }\n",
              "\n",
              "    .dataframe tbody tr th {\n",
              "        vertical-align: top;\n",
              "    }\n",
              "\n",
              "    .dataframe thead th {\n",
              "        text-align: right;\n",
              "    }\n",
              "</style>\n",
              "<table border=\"1\" class=\"dataframe\">\n",
              "  <thead>\n",
              "    <tr style=\"text-align: right;\">\n",
              "      <th></th>\n",
              "      <th>Unnamed: 0</th>\n",
              "      <th>NU_INSCRICAO</th>\n",
              "      <th>TP_FAIXA_ETARIA</th>\n",
              "      <th>TP_SEXO</th>\n",
              "      <th>TP_ESTADO_CIVIL</th>\n",
              "      <th>TP_COR_RACA</th>\n",
              "      <th>TP_NACIONALIDADE</th>\n",
              "      <th>TP_ST_CONCLUSAO</th>\n",
              "      <th>TP_ANO_CONCLUIU</th>\n",
              "      <th>TP_ESCOLA</th>\n",
              "      <th>...</th>\n",
              "      <th>Q017</th>\n",
              "      <th>Q018</th>\n",
              "      <th>Q019</th>\n",
              "      <th>Q020</th>\n",
              "      <th>Q021</th>\n",
              "      <th>Q022</th>\n",
              "      <th>Q023</th>\n",
              "      <th>Q024</th>\n",
              "      <th>Q025</th>\n",
              "      <th>presenca</th>\n",
              "    </tr>\n",
              "  </thead>\n",
              "  <tbody>\n",
              "    <tr>\n",
              "      <th>0</th>\n",
              "      <td>0</td>\n",
              "      <td>190001595656</td>\n",
              "      <td>13</td>\n",
              "      <td>M</td>\n",
              "      <td>1</td>\n",
              "      <td>3</td>\n",
              "      <td>1</td>\n",
              "      <td>1</td>\n",
              "      <td>11</td>\n",
              "      <td>1</td>\n",
              "      <td>...</td>\n",
              "      <td>A</td>\n",
              "      <td>A</td>\n",
              "      <td>A</td>\n",
              "      <td>A</td>\n",
              "      <td>A</td>\n",
              "      <td>C</td>\n",
              "      <td>A</td>\n",
              "      <td>C</td>\n",
              "      <td>B</td>\n",
              "      <td>0</td>\n",
              "    </tr>\n",
              "    <tr>\n",
              "      <th>1</th>\n",
              "      <td>1</td>\n",
              "      <td>190001421546</td>\n",
              "      <td>8</td>\n",
              "      <td>M</td>\n",
              "      <td>1</td>\n",
              "      <td>1</td>\n",
              "      <td>1</td>\n",
              "      <td>1</td>\n",
              "      <td>5</td>\n",
              "      <td>1</td>\n",
              "      <td>...</td>\n",
              "      <td>A</td>\n",
              "      <td>A</td>\n",
              "      <td>B</td>\n",
              "      <td>A</td>\n",
              "      <td>A</td>\n",
              "      <td>E</td>\n",
              "      <td>A</td>\n",
              "      <td>A</td>\n",
              "      <td>B</td>\n",
              "      <td>0</td>\n",
              "    </tr>\n",
              "    <tr>\n",
              "      <th>2</th>\n",
              "      <td>2</td>\n",
              "      <td>190001133210</td>\n",
              "      <td>13</td>\n",
              "      <td>F</td>\n",
              "      <td>1</td>\n",
              "      <td>3</td>\n",
              "      <td>1</td>\n",
              "      <td>1</td>\n",
              "      <td>13</td>\n",
              "      <td>1</td>\n",
              "      <td>...</td>\n",
              "      <td>A</td>\n",
              "      <td>A</td>\n",
              "      <td>B</td>\n",
              "      <td>A</td>\n",
              "      <td>A</td>\n",
              "      <td>C</td>\n",
              "      <td>A</td>\n",
              "      <td>A</td>\n",
              "      <td>B</td>\n",
              "      <td>0</td>\n",
              "    </tr>\n",
              "    <tr>\n",
              "      <th>3</th>\n",
              "      <td>3</td>\n",
              "      <td>190001199383</td>\n",
              "      <td>10</td>\n",
              "      <td>F</td>\n",
              "      <td>1</td>\n",
              "      <td>1</td>\n",
              "      <td>1</td>\n",
              "      <td>1</td>\n",
              "      <td>4</td>\n",
              "      <td>1</td>\n",
              "      <td>...</td>\n",
              "      <td>A</td>\n",
              "      <td>A</td>\n",
              "      <td>C</td>\n",
              "      <td>A</td>\n",
              "      <td>B</td>\n",
              "      <td>D</td>\n",
              "      <td>A</td>\n",
              "      <td>B</td>\n",
              "      <td>B</td>\n",
              "      <td>1</td>\n",
              "    </tr>\n",
              "    <tr>\n",
              "      <th>4</th>\n",
              "      <td>4</td>\n",
              "      <td>190001237802</td>\n",
              "      <td>7</td>\n",
              "      <td>F</td>\n",
              "      <td>1</td>\n",
              "      <td>1</td>\n",
              "      <td>1</td>\n",
              "      <td>1</td>\n",
              "      <td>4</td>\n",
              "      <td>1</td>\n",
              "      <td>...</td>\n",
              "      <td>A</td>\n",
              "      <td>A</td>\n",
              "      <td>B</td>\n",
              "      <td>A</td>\n",
              "      <td>A</td>\n",
              "      <td>C</td>\n",
              "      <td>B</td>\n",
              "      <td>B</td>\n",
              "      <td>B</td>\n",
              "      <td>1</td>\n",
              "    </tr>\n",
              "  </tbody>\n",
              "</table>\n",
              "<p>5 rows × 41 columns</p>\n",
              "</div>\n",
              "      <button class=\"colab-df-convert\" onclick=\"convertToInteractive('df-b6795cbd-6a76-4b45-857b-37ac3f217307')\"\n",
              "              title=\"Convert this dataframe to an interactive table.\"\n",
              "              style=\"display:none;\">\n",
              "        \n",
              "  <svg xmlns=\"http://www.w3.org/2000/svg\" height=\"24px\"viewBox=\"0 0 24 24\"\n",
              "       width=\"24px\">\n",
              "    <path d=\"M0 0h24v24H0V0z\" fill=\"none\"/>\n",
              "    <path d=\"M18.56 5.44l.94 2.06.94-2.06 2.06-.94-2.06-.94-.94-2.06-.94 2.06-2.06.94zm-11 1L8.5 8.5l.94-2.06 2.06-.94-2.06-.94L8.5 2.5l-.94 2.06-2.06.94zm10 10l.94 2.06.94-2.06 2.06-.94-2.06-.94-.94-2.06-.94 2.06-2.06.94z\"/><path d=\"M17.41 7.96l-1.37-1.37c-.4-.4-.92-.59-1.43-.59-.52 0-1.04.2-1.43.59L10.3 9.45l-7.72 7.72c-.78.78-.78 2.05 0 2.83L4 21.41c.39.39.9.59 1.41.59.51 0 1.02-.2 1.41-.59l7.78-7.78 2.81-2.81c.8-.78.8-2.07 0-2.86zM5.41 20L4 18.59l7.72-7.72 1.47 1.35L5.41 20z\"/>\n",
              "  </svg>\n",
              "      </button>\n",
              "      \n",
              "  <style>\n",
              "    .colab-df-container {\n",
              "      display:flex;\n",
              "      flex-wrap:wrap;\n",
              "      gap: 12px;\n",
              "    }\n",
              "\n",
              "    .colab-df-convert {\n",
              "      background-color: #E8F0FE;\n",
              "      border: none;\n",
              "      border-radius: 50%;\n",
              "      cursor: pointer;\n",
              "      display: none;\n",
              "      fill: #1967D2;\n",
              "      height: 32px;\n",
              "      padding: 0 0 0 0;\n",
              "      width: 32px;\n",
              "    }\n",
              "\n",
              "    .colab-df-convert:hover {\n",
              "      background-color: #E2EBFA;\n",
              "      box-shadow: 0px 1px 2px rgba(60, 64, 67, 0.3), 0px 1px 3px 1px rgba(60, 64, 67, 0.15);\n",
              "      fill: #174EA6;\n",
              "    }\n",
              "\n",
              "    [theme=dark] .colab-df-convert {\n",
              "      background-color: #3B4455;\n",
              "      fill: #D2E3FC;\n",
              "    }\n",
              "\n",
              "    [theme=dark] .colab-df-convert:hover {\n",
              "      background-color: #434B5C;\n",
              "      box-shadow: 0px 1px 3px 1px rgba(0, 0, 0, 0.15);\n",
              "      filter: drop-shadow(0px 1px 2px rgba(0, 0, 0, 0.3));\n",
              "      fill: #FFFFFF;\n",
              "    }\n",
              "  </style>\n",
              "\n",
              "      <script>\n",
              "        const buttonEl =\n",
              "          document.querySelector('#df-b6795cbd-6a76-4b45-857b-37ac3f217307 button.colab-df-convert');\n",
              "        buttonEl.style.display =\n",
              "          google.colab.kernel.accessAllowed ? 'block' : 'none';\n",
              "\n",
              "        async function convertToInteractive(key) {\n",
              "          const element = document.querySelector('#df-b6795cbd-6a76-4b45-857b-37ac3f217307');\n",
              "          const dataTable =\n",
              "            await google.colab.kernel.invokeFunction('convertToInteractive',\n",
              "                                                     [key], {});\n",
              "          if (!dataTable) return;\n",
              "\n",
              "          const docLinkHtml = 'Like what you see? Visit the ' +\n",
              "            '<a target=\"_blank\" href=https://colab.research.google.com/notebooks/data_table.ipynb>data table notebook</a>'\n",
              "            + ' to learn more about interactive tables.';\n",
              "          element.innerHTML = '';\n",
              "          dataTable['output_type'] = 'display_data';\n",
              "          await google.colab.output.renderOutput(dataTable, element);\n",
              "          const docLink = document.createElement('div');\n",
              "          docLink.innerHTML = docLinkHtml;\n",
              "          element.appendChild(docLink);\n",
              "        }\n",
              "      </script>\n",
              "    </div>\n",
              "  </div>\n",
              "  "
            ]
          },
          "metadata": {},
          "execution_count": 3
        }
      ]
    },
    {
      "cell_type": "code",
      "source": [
        "df.columns"
      ],
      "metadata": {
        "colab": {
          "base_uri": "https://localhost:8080/"
        },
        "id": "LkqadNCDnnJR",
        "outputId": "7b5d05f5-fa93-4b64-cca4-0dbd5682b1da"
      },
      "execution_count": 4,
      "outputs": [
        {
          "output_type": "execute_result",
          "data": {
            "text/plain": [
              "Index(['Unnamed: 0', 'NU_INSCRICAO', 'TP_FAIXA_ETARIA', 'TP_SEXO',\n",
              "       'TP_ESTADO_CIVIL', 'TP_COR_RACA', 'TP_NACIONALIDADE', 'TP_ST_CONCLUSAO',\n",
              "       'TP_ANO_CONCLUIU', 'TP_ESCOLA', 'TP_ENSINO', 'CO_MUNICIPIO_ESC',\n",
              "       'SG_UF_ESC', 'CO_MUNICIPIO_PROVA', 'SG_UF_PROVA', 'Q001', 'Q002',\n",
              "       'Q003', 'Q004', 'Q005', 'Q006', 'Q007', 'Q008', 'Q009', 'Q010', 'Q011',\n",
              "       'Q012', 'Q013', 'Q014', 'Q015', 'Q016', 'Q017', 'Q018', 'Q019', 'Q020',\n",
              "       'Q021', 'Q022', 'Q023', 'Q024', 'Q025', 'presenca'],\n",
              "      dtype='object')"
            ]
          },
          "metadata": {},
          "execution_count": 4
        }
      ]
    },
    {
      "cell_type": "code",
      "source": [
        "#importação do matplotlib\n",
        "import matplotlib.pyplot as plt"
      ],
      "metadata": {
        "id": "mIuoQ57jZi97"
      },
      "execution_count": 5,
      "outputs": []
    },
    {
      "cell_type": "code",
      "source": [
        "#separação de DataFrames entre presentes, ausentes e eliminados, \n",
        "#para utilização nos gráficos\n",
        "presentes = df[df['presenca']==1]\n",
        "ausentes = df[df['presenca']==0]\n",
        "eliminados = df[df['presenca']==2]"
      ],
      "metadata": {
        "id": "xYMKIDUPpWIp"
      },
      "execution_count": 6,
      "outputs": []
    },
    {
      "cell_type": "markdown",
      "source": [
        "Após importação dos dados, iniaremos as análises, por variável, comparando a porcentagem de ausentes com a porcentagem de inscritos, a fim de verificar se há diferença nas distribuição de ausentes e inscritos. \n",
        "\n",
        "Aqui, df é o dataframe com o total de inscritos e ausentes é o dataframe com o total de ausentes. \n",
        "\n",
        "Nos gráficos, em azul estão os inscritos e em laranja os ausentes."
      ],
      "metadata": {
        "id": "1hYcV2U6iQ3d"
      }
    },
    {
      "cell_type": "markdown",
      "source": [
        "####Faixa Etaria"
      ],
      "metadata": {
        "id": "dzEdyyhdn8Ux"
      }
    },
    {
      "cell_type": "code",
      "source": [
        "data = [df['TP_FAIXA_ETARIA'], ausentes['TP_FAIXA_ETARIA']]\n",
        " \n",
        "fig = plt.figure(figsize =(10, 7))\n",
        "ax = fig.add_axes([0, 0, 1, 0.5])\n",
        "ax.hist(data, bins=20, density = True)\n",
        "ax.legend(['inscritos', 'ausentes'], loc='upper right')\n",
        "ax.set_title('Faixa Etária')\n",
        "plt.show()"
      ],
      "metadata": {
        "colab": {
          "base_uri": "https://localhost:8080/",
          "height": 412
        },
        "id": "tponwFXWp_zB",
        "outputId": "dff3dd84-9aa9-4f40-98b3-d8383ea3580e"
      },
      "execution_count": 7,
      "outputs": [
        {
          "output_type": "stream",
          "name": "stderr",
          "text": [
            "/usr/local/lib/python3.8/dist-packages/numpy/core/fromnumeric.py:3208: VisibleDeprecationWarning: Creating an ndarray from ragged nested sequences (which is a list-or-tuple of lists-or-tuples-or ndarrays with different lengths or shapes) is deprecated. If you meant to do this, you must specify 'dtype=object' when creating the ndarray.\n",
            "  return asarray(a).size\n",
            "/usr/local/lib/python3.8/dist-packages/matplotlib/cbook/__init__.py:1376: VisibleDeprecationWarning: Creating an ndarray from ragged nested sequences (which is a list-or-tuple of lists-or-tuples-or ndarrays with different lengths or shapes) is deprecated. If you meant to do this, you must specify 'dtype=object' when creating the ndarray.\n",
            "  X = np.atleast_1d(X.T if isinstance(X, np.ndarray) else np.asarray(X))\n"
          ]
        },
        {
          "output_type": "display_data",
          "data": {
            "text/plain": [
              "<Figure size 720x504 with 1 Axes>"
            ],
            "image/png": "[encoded data removed]"
          },
          "metadata": {
            "needs_background": "light"
          }
        }
      ]
    },
    {
      "cell_type": "code",
      "source": [
        "df['TP_FAIXA_ETARIA'].value_counts(normalize=True)[:3]"
      ],
      "metadata": {
        "colab": {
          "base_uri": "https://localhost:8080/"
        },
        "id": "8c7Ro0zArzgu",
        "outputId": "fbea1a44-dcb6-4c9a-a5ca-d7bbd0f0a9b3"
      },
      "execution_count": 8,
      "outputs": [
        {
          "output_type": "execute_result",
          "data": {
            "text/plain": [
              "3    0.185002\n",
              "2    0.145631\n",
              "4    0.126704\n",
              "Name: TP_FAIXA_ETARIA, dtype: float64"
            ]
          },
          "metadata": {},
          "execution_count": 8
        }
      ]
    },
    {
      "cell_type": "code",
      "source": [
        "ausentes['TP_FAIXA_ETARIA'].value_counts(normalize=True)[:3]"
      ],
      "metadata": {
        "colab": {
          "base_uri": "https://localhost:8080/"
        },
        "id": "z_1enRzur6GY",
        "outputId": "cfcaaa7c-4191-4253-919d-fbc5b68e4033"
      },
      "execution_count": 9,
      "outputs": [
        {
          "output_type": "execute_result",
          "data": {
            "text/plain": [
              "11    0.137916\n",
              "3     0.111523\n",
              "4     0.110105\n",
              "Name: TP_FAIXA_ETARIA, dtype: float64"
            ]
          },
          "metadata": {},
          "execution_count": 9
        }
      ]
    },
    {
      "cell_type": "code",
      "source": [
        "ausentes['TP_FAIXA_ETARIA'].value_counts(normalize=True).sort_index()/df['TP_FAIXA_ETARIA'].value_counts(normalize=True).sort_index()"
      ],
      "metadata": {
        "colab": {
          "base_uri": "https://localhost:8080/"
        },
        "id": "puoAFfZbOpHF",
        "outputId": "6e31fb69-5f25-4c0f-d6f8-5924ca0c62f9"
      },
      "execution_count": 10,
      "outputs": [
        {
          "output_type": "execute_result",
          "data": {
            "text/plain": [
              "1     0.377484\n",
              "2     0.395579\n",
              "3     0.602817\n",
              "4     0.868991\n",
              "5     1.036695\n",
              "6     1.169244\n",
              "7     1.263030\n",
              "8     1.343329\n",
              "9     1.410330\n",
              "10    1.468569\n",
              "11    1.534925\n",
              "12    1.565705\n",
              "13    1.523674\n",
              "14    1.445875\n",
              "15    1.356970\n",
              "16    1.301734\n",
              "17    1.251282\n",
              "18    1.238453\n",
              "19    1.154024\n",
              "20    1.364575\n",
              "Name: TP_FAIXA_ETARIA, dtype: float64"
            ]
          },
          "metadata": {},
          "execution_count": 10
        }
      ]
    },
    {
      "cell_type": "markdown",
      "source": [
        "Através do histograma, temos indício que as distribuições das faixas etárias são diferentes entre o total de inscritos e os ausentes. Portanto é uma característica relevante para a análise.\n",
        "\n",
        "Pela relação entre as proporções doa ausentes e dos inscritos, temos que a partir da faixa 5 (acima de 20 anos), todas as faixas etárias têm ausentes acima do esperado (valor maior que 1 na razão), tendo como pico as faixas 11, 12 e 13 (entre 26 e 40 anos)"
      ],
      "metadata": {
        "id": "m-FBgxkMrXUx"
      }
    },
    {
      "cell_type": "markdown",
      "source": [
        "####Sexo"
      ],
      "metadata": {
        "id": "_kc0Yq3GtS6x"
      }
    },
    {
      "cell_type": "code",
      "source": [
        "data = [df['TP_SEXO'], ausentes['TP_SEXO']]\n",
        " \n",
        "fig = plt.figure(figsize =(10, 7))\n",
        "ax = fig.add_axes([0, 0, 1, 0.5])\n",
        "ax.hist(data, bins=2, density = True)\n",
        "ax.legend(['inscritos', 'ausentes'], loc='upper left')\n",
        "ax.set_title('Sexo')\n",
        "plt.show()"
      ],
      "metadata": {
        "colab": {
          "base_uri": "https://localhost:8080/",
          "height": 305
        },
        "id": "i70KuGDxux0R",
        "outputId": "3ae2ed0a-6aa7-4886-a14a-2622d3ac9cd4"
      },
      "execution_count": 11,
      "outputs": [
        {
          "output_type": "display_data",
          "data": {
            "text/plain": [
              "<Figure size 720x504 with 1 Axes>"
            ],
            "image/png": "[encoded data removed]"
          },
          "metadata": {
            "needs_background": "light"
          }
        }
      ]
    },
    {
      "cell_type": "code",
      "source": [
        "df['TP_SEXO'].value_counts(normalize=True)[:2]"
      ],
      "metadata": {
        "colab": {
          "base_uri": "https://localhost:8080/"
        },
        "id": "Kivczfo-p_l5",
        "outputId": "204a3587-c1dd-4262-b0b6-d6aa331e6915"
      },
      "execution_count": 12,
      "outputs": [
        {
          "output_type": "execute_result",
          "data": {
            "text/plain": [
              "F    0.590463\n",
              "M    0.409537\n",
              "Name: TP_SEXO, dtype: float64"
            ]
          },
          "metadata": {},
          "execution_count": 12
        }
      ]
    },
    {
      "cell_type": "code",
      "source": [
        "ausentes['TP_SEXO'].value_counts(normalize=True)[:2]"
      ],
      "metadata": {
        "colab": {
          "base_uri": "https://localhost:8080/"
        },
        "id": "GOksCePOp_Vh",
        "outputId": "6b27a1b3-021e-4f42-ca4d-fa8600ffb634"
      },
      "execution_count": 13,
      "outputs": [
        {
          "output_type": "execute_result",
          "data": {
            "text/plain": [
              "F    0.593962\n",
              "M    0.406038\n",
              "Name: TP_SEXO, dtype: float64"
            ]
          },
          "metadata": {},
          "execution_count": 13
        }
      ]
    },
    {
      "cell_type": "code",
      "source": [
        "ausentes['TP_SEXO'].value_counts(normalize=True).sort_index()/df['TP_SEXO'].value_counts(normalize=True).sort_index()"
      ],
      "metadata": {
        "colab": {
          "base_uri": "https://localhost:8080/"
        },
        "id": "YIlxe50BREJU",
        "outputId": "195066b6-e934-450d-d2ab-c6e3687faeaf"
      },
      "execution_count": 14,
      "outputs": [
        {
          "output_type": "execute_result",
          "data": {
            "text/plain": [
              "F    1.005926\n",
              "M    0.991456\n",
              "Name: TP_SEXO, dtype: float64"
            ]
          },
          "metadata": {},
          "execution_count": 14
        }
      ]
    },
    {
      "cell_type": "markdown",
      "source": [
        "Pelas propoções, temos indício que as distribuições dos sexos não são diferentes entre o total de inscritos e os ausentes. Portanto não é uma característica relevante para a análise.\n",
        "\n",
        "Pela relação entre as proporções doa ausentes e dos inscritos, temos que não há ausentes acima do esperado por sexo."
      ],
      "metadata": {
        "id": "jKB3Jyp8t55Y"
      }
    },
    {
      "cell_type": "markdown",
      "source": [
        "####Estado Civil"
      ],
      "metadata": {
        "id": "iu3HpAK_uafp"
      }
    },
    {
      "cell_type": "code",
      "source": [
        "data = [df['TP_ESTADO_CIVIL'], ausentes['TP_ESTADO_CIVIL']]\n",
        " \n",
        "fig = plt.figure(figsize =(10, 7))\n",
        "ax = fig.add_axes([0, 0, 1, 0.5])\n",
        "ax.hist(data, bins=5, density = True)\n",
        "ax.legend(['inscritos', 'ausentes'], loc='upper right')\n",
        "ax.set_title('Estado Civil')\n",
        "plt.show()"
      ],
      "metadata": {
        "id": "2K86bdyKarBn",
        "colab": {
          "base_uri": "https://localhost:8080/",
          "height": 316
        },
        "outputId": "a341d1ef-a156-45ad-e75f-5bbe79d37b91"
      },
      "execution_count": 15,
      "outputs": [
        {
          "output_type": "display_data",
          "data": {
            "text/plain": [
              "<Figure size 720x504 with 1 Axes>"
            ],
            "image/png": "[encoded data removed]"
          },
          "metadata": {
            "needs_background": "light"
          }
        }
      ]
    },
    {
      "cell_type": "code",
      "source": [
        "df['TP_ESTADO_CIVIL'].value_counts(normalize=True)[:3]"
      ],
      "metadata": {
        "colab": {
          "base_uri": "https://localhost:8080/"
        },
        "id": "CDAORksQur5J",
        "outputId": "e1eb75e1-0b1e-453c-9f2a-096a5601ca78"
      },
      "execution_count": 16,
      "outputs": [
        {
          "output_type": "execute_result",
          "data": {
            "text/plain": [
              "1    0.850259\n",
              "2    0.087617\n",
              "0    0.041858\n",
              "Name: TP_ESTADO_CIVIL, dtype: float64"
            ]
          },
          "metadata": {},
          "execution_count": 16
        }
      ]
    },
    {
      "cell_type": "code",
      "source": [
        "ausentes['TP_ESTADO_CIVIL'].value_counts(normalize=True)[:3]"
      ],
      "metadata": {
        "colab": {
          "base_uri": "https://localhost:8080/"
        },
        "id": "EQtEUky_vPJs",
        "outputId": "d9f8fa23-080f-48b1-ffff-06730844b79f"
      },
      "execution_count": 17,
      "outputs": [
        {
          "output_type": "execute_result",
          "data": {
            "text/plain": [
              "1    0.782741\n",
              "2    0.131522\n",
              "0    0.056751\n",
              "Name: TP_ESTADO_CIVIL, dtype: float64"
            ]
          },
          "metadata": {},
          "execution_count": 17
        }
      ]
    },
    {
      "cell_type": "code",
      "source": [
        "ausentes['TP_ESTADO_CIVIL'].value_counts(normalize=True).sort_index()/df['TP_ESTADO_CIVIL'].value_counts(normalize=True).sort_index()"
      ],
      "metadata": {
        "colab": {
          "base_uri": "https://localhost:8080/"
        },
        "id": "hV5nKYTmRc7d",
        "outputId": "e7359060-9820-4624-bc95-5357dcc8d1b7"
      },
      "execution_count": 18,
      "outputs": [
        {
          "output_type": "execute_result",
          "data": {
            "text/plain": [
              "0    1.355806\n",
              "1    0.920591\n",
              "2    1.501100\n",
              "3    1.433864\n",
              "4    1.380170\n",
              "Name: TP_ESTADO_CIVIL, dtype: float64"
            ]
          },
          "metadata": {},
          "execution_count": 18
        }
      ]
    },
    {
      "cell_type": "markdown",
      "source": [
        "Há indícios de que os solteiros se ausentam menos do que os casados ou divorciados. \n",
        "\n",
        "Pela relação entre as proporções dos ausentes e dos inscritos, temos que os solteiros se ausentam menos que o esperado, enquanto os outros estados civis se ausentam mais."
      ],
      "metadata": {
        "id": "LWhMojCPvj7x"
      }
    },
    {
      "cell_type": "markdown",
      "source": [
        "####Cor Raça"
      ],
      "metadata": {
        "id": "_Jt69xVkwQt5"
      }
    },
    {
      "cell_type": "code",
      "source": [
        "data = [df['TP_COR_RACA'], ausentes['TP_COR_RACA']]\n",
        " \n",
        "fig = plt.figure(figsize =(10, 7))\n",
        "ax = fig.add_axes([0, 0, 1, 0.5])\n",
        "ax.hist(data, bins=6, density = True)\n",
        "ax.legend(['inscritos', 'ausentes'], loc='upper right')\n",
        "ax.set_title('Cor')\n",
        "plt.show()"
      ],
      "metadata": {
        "colab": {
          "base_uri": "https://localhost:8080/",
          "height": 316
        },
        "id": "AnSlQhEGvSgg",
        "outputId": "22b53dbf-8590-4d4e-d2a5-27523fdfb9c9"
      },
      "execution_count": 19,
      "outputs": [
        {
          "output_type": "display_data",
          "data": {
            "text/plain": [
              "<Figure size 720x504 with 1 Axes>"
            ],
            "image/png": "[encoded data removed]"
          },
          "metadata": {
            "needs_background": "light"
          }
        }
      ]
    },
    {
      "cell_type": "code",
      "source": [
        "df['TP_COR_RACA'].value_counts(normalize=True)[:3]"
      ],
      "metadata": {
        "colab": {
          "base_uri": "https://localhost:8080/"
        },
        "id": "kSlwn6OawYSF",
        "outputId": "bf16b246-7149-4e9f-c34b-52c12966e1c7"
      },
      "execution_count": 23,
      "outputs": [
        {
          "output_type": "execute_result",
          "data": {
            "text/plain": [
              "3    0.472955\n",
              "1    0.344146\n",
              "2    0.134041\n",
              "Name: TP_COR_RACA, dtype: float64"
            ]
          },
          "metadata": {},
          "execution_count": 23
        }
      ]
    },
    {
      "cell_type": "code",
      "source": [
        "ausentes['TP_COR_RACA'].value_counts(normalize=True)[:3]"
      ],
      "metadata": {
        "colab": {
          "base_uri": "https://localhost:8080/"
        },
        "id": "SwrcPoqowhhg",
        "outputId": "4c61a20a-00c1-4b35-c779-11a79857cbaf"
      },
      "execution_count": 24,
      "outputs": [
        {
          "output_type": "execute_result",
          "data": {
            "text/plain": [
              "3    0.484449\n",
              "1    0.321455\n",
              "2    0.143187\n",
              "Name: TP_COR_RACA, dtype: float64"
            ]
          },
          "metadata": {},
          "execution_count": 24
        }
      ]
    },
    {
      "cell_type": "code",
      "source": [
        "ausentes['TP_COR_RACA'].value_counts(normalize=True).sort_index()/df['TP_COR_RACA'].value_counts(normalize=True).sort_index()"
      ],
      "metadata": {
        "colab": {
          "base_uri": "https://localhost:8080/"
        },
        "id": "sBCG5uUGlc5N",
        "outputId": "0dc1aabf-98ca-46d2-d930-4899f4cf6e1a"
      },
      "execution_count": 22,
      "outputs": [
        {
          "output_type": "execute_result",
          "data": {
            "text/plain": [
              "0    1.061750\n",
              "1    0.934066\n",
              "2    1.068236\n",
              "3    1.024303\n",
              "4    0.993756\n",
              "5    1.150161\n",
              "Name: TP_COR_RACA, dtype: float64"
            ]
          },
          "metadata": {},
          "execution_count": 22
        }
      ]
    },
    {
      "cell_type": "markdown",
      "source": [
        "Há uma pequena diferença entre a distribuição das cores dos inscritos e ausentes que precisa ser investigada, para sabermos se há relevância nessa variável ou não. \n",
        "\n",
        "Pela relação entre as proporções dos ausentes e dos inscritos, temos que os brancos e amarelos se ausentam um pouco menos que o esperado, enquanto os pretos e pardos se ausentam um pouco mais e os indígenas são os que mais se ausentam."
      ],
      "metadata": {
        "id": "Z7TK-r-kwlHZ"
      }
    },
    {
      "cell_type": "markdown",
      "source": [
        "####Tipo de escola"
      ],
      "metadata": {
        "id": "OlwKjiWXxpTo"
      }
    },
    {
      "cell_type": "code",
      "source": [
        "data = [df['TP_ESCOLA'], ausentes['TP_ESCOLA']]\n",
        " \n",
        "fig = plt.figure(figsize =(10, 7))\n",
        "ax = fig.add_axes([0, 0, 1, 0.5])\n",
        "ax.hist(data, bins=3, density = True)\n",
        "ax.legend(['inscritos', 'ausentes'], loc='upper right')\n",
        "ax.set_title('Tipo de Escola')\n",
        "plt.show()"
      ],
      "metadata": {
        "colab": {
          "base_uri": "https://localhost:8080/",
          "height": 412
        },
        "id": "P-ybRGFrwkPk",
        "outputId": "3cea18ca-31d6-400a-ef9b-8efeb32f37c3"
      },
      "execution_count": 25,
      "outputs": [
        {
          "output_type": "stream",
          "name": "stderr",
          "text": [
            "/usr/local/lib/python3.8/dist-packages/numpy/core/fromnumeric.py:3208: VisibleDeprecationWarning: Creating an ndarray from ragged nested sequences (which is a list-or-tuple of lists-or-tuples-or ndarrays with different lengths or shapes) is deprecated. If you meant to do this, you must specify 'dtype=object' when creating the ndarray.\n",
            "  return asarray(a).size\n",
            "/usr/local/lib/python3.8/dist-packages/matplotlib/cbook/__init__.py:1376: VisibleDeprecationWarning: Creating an ndarray from ragged nested sequences (which is a list-or-tuple of lists-or-tuples-or ndarrays with different lengths or shapes) is deprecated. If you meant to do this, you must specify 'dtype=object' when creating the ndarray.\n",
            "  X = np.atleast_1d(X.T if isinstance(X, np.ndarray) else np.asarray(X))\n"
          ]
        },
        {
          "output_type": "display_data",
          "data": {
            "text/plain": [
              "<Figure size 720x504 with 1 Axes>"
            ],
            "image/png": "[encoded data removed]"
          },
          "metadata": {
            "needs_background": "light"
          }
        }
      ]
    },
    {
      "cell_type": "code",
      "source": [
        "df['TP_ESCOLA'].value_counts(normalize=True)[:5]"
      ],
      "metadata": {
        "colab": {
          "base_uri": "https://localhost:8080/"
        },
        "id": "1CVoLACxxwX0",
        "outputId": "c621b39e-21b8-404b-b7b9-22d988ef9cab"
      },
      "execution_count": 26,
      "outputs": [
        {
          "output_type": "execute_result",
          "data": {
            "text/plain": [
              "1    0.672690\n",
              "2    0.278493\n",
              "3    0.048817\n",
              "Name: TP_ESCOLA, dtype: float64"
            ]
          },
          "metadata": {},
          "execution_count": 26
        }
      ]
    },
    {
      "cell_type": "code",
      "source": [
        "ausentes['TP_ESCOLA'].value_counts(normalize=True)[:5]"
      ],
      "metadata": {
        "colab": {
          "base_uri": "https://localhost:8080/"
        },
        "id": "vUXejzsbxzgs",
        "outputId": "beec771f-76ed-437e-f409-8c0f62fa0a00"
      },
      "execution_count": 27,
      "outputs": [
        {
          "output_type": "execute_result",
          "data": {
            "text/plain": [
              "1    0.809891\n",
              "2    0.181548\n",
              "3    0.008561\n",
              "Name: TP_ESCOLA, dtype: float64"
            ]
          },
          "metadata": {},
          "execution_count": 27
        }
      ]
    },
    {
      "cell_type": "code",
      "source": [
        "df[df['TP_ESCOLA'] != 1]['TP_ESCOLA'].value_counts(normalize=True)[:5]"
      ],
      "metadata": {
        "colab": {
          "base_uri": "https://localhost:8080/"
        },
        "id": "_8jbs53TnY2E",
        "outputId": "5ad04818-45db-41d0-a5f8-6fb089b0eeae"
      },
      "execution_count": 31,
      "outputs": [
        {
          "output_type": "execute_result",
          "data": {
            "text/plain": [
              "2    0.850854\n",
              "3    0.149146\n",
              "Name: TP_ESCOLA, dtype: float64"
            ]
          },
          "metadata": {},
          "execution_count": 31
        }
      ]
    },
    {
      "cell_type": "code",
      "source": [
        "ausentes[ausentes['TP_ESCOLA'] != 1]['TP_ESCOLA'].value_counts(normalize=True)[:5]"
      ],
      "metadata": {
        "colab": {
          "base_uri": "https://localhost:8080/"
        },
        "id": "Jh4IluDRnYqU",
        "outputId": "5de948e6-f613-4150-a99d-16998d2dc75f"
      },
      "execution_count": 32,
      "outputs": [
        {
          "output_type": "execute_result",
          "data": {
            "text/plain": [
              "2    0.954968\n",
              "3    0.045032\n",
              "Name: TP_ESCOLA, dtype: float64"
            ]
          },
          "metadata": {},
          "execution_count": 32
        }
      ]
    },
    {
      "cell_type": "code",
      "source": [
        "ausentes[ausentes['TP_ESCOLA'] != 1]['TP_ESCOLA'].value_counts(normalize=True).sort_index()/df[df['TP_ESCOLA'] != 1]['TP_ESCOLA'].value_counts(normalize=True).sort_index()"
      ],
      "metadata": {
        "colab": {
          "base_uri": "https://localhost:8080/"
        },
        "id": "QfmfesLWm6TF",
        "outputId": "17cf2cd4-cec5-486c-c6f7-ab39b26e58f3"
      },
      "execution_count": 33,
      "outputs": [
        {
          "output_type": "execute_result",
          "data": {
            "text/plain": [
              "2    1.122363\n",
              "3    0.301935\n",
              "Name: TP_ESCOLA, dtype: float64"
            ]
          },
          "metadata": {},
          "execution_count": 33
        }
      ]
    },
    {
      "cell_type": "markdown",
      "source": [
        "67% dos inscritos não informaram o tipo de escola e 80% dos ausentes também não. Eliminando essa opção, analisamos apenas os que informaram o tipo de escola.\n",
        "\n",
        "Temos indício que as distribuições dos tipos de escola são diferentes entre o total de inscritos e os ausentes. Portanto seria uma característica relevante para a análise. Porém, com uma porcentagem tão alta sem informação é preciso definir se esta variável poderá ser utilizada ou não.\n",
        "\n",
        "Pelas propoções, alunos de escolas públicas se ausentam mais que o esperado enquanto alunos de escola particular se ausentam menos. "
      ],
      "metadata": {
        "id": "uYO1ilsvz22C"
      }
    },
    {
      "cell_type": "markdown",
      "source": [
        "####UF da escola em que fez a prova"
      ],
      "metadata": {
        "id": "la52hnho2yPw"
      }
    },
    {
      "cell_type": "code",
      "source": [
        "data = [df['SG_UF_PROVA'], ausentes['SG_UF_PROVA']]\n",
        " \n",
        "fig = plt.figure(figsize =(10, 7))\n",
        "ax = fig.add_axes([0, 0, 2, 0.5])\n",
        "ax.hist(data, bins=27, density = True)\n",
        "ax.legend(['inscritos', 'ausentes'], loc='upper right')\n",
        "ax.set_title('UF da escola')\n",
        "plt.show()"
      ],
      "metadata": {
        "colab": {
          "base_uri": "https://localhost:8080/",
          "height": 412
        },
        "id": "vakK8OIVx2nt",
        "outputId": "746cc1af-1539-4cd2-dfdf-2eddf7940901"
      },
      "execution_count": 34,
      "outputs": [
        {
          "output_type": "stream",
          "name": "stderr",
          "text": [
            "/usr/local/lib/python3.8/dist-packages/numpy/core/fromnumeric.py:3208: VisibleDeprecationWarning: Creating an ndarray from ragged nested sequences (which is a list-or-tuple of lists-or-tuples-or ndarrays with different lengths or shapes) is deprecated. If you meant to do this, you must specify 'dtype=object' when creating the ndarray.\n",
            "  return asarray(a).size\n",
            "/usr/local/lib/python3.8/dist-packages/matplotlib/cbook/__init__.py:1376: VisibleDeprecationWarning: Creating an ndarray from ragged nested sequences (which is a list-or-tuple of lists-or-tuples-or ndarrays with different lengths or shapes) is deprecated. If you meant to do this, you must specify 'dtype=object' when creating the ndarray.\n",
            "  X = np.atleast_1d(X.T if isinstance(X, np.ndarray) else np.asarray(X))\n"
          ]
        },
        {
          "output_type": "display_data",
          "data": {
            "text/plain": [
              "<Figure size 720x504 with 1 Axes>"
            ],
            "image/png": "[encoded data removed]"
          },
          "metadata": {
            "needs_background": "light"
          }
        }
      ]
    },
    {
      "cell_type": "code",
      "source": [
        "df['SG_UF_PROVA'].value_counts(normalize=True)[:3]"
      ],
      "metadata": {
        "colab": {
          "base_uri": "https://localhost:8080/"
        },
        "id": "kWJws32a28hH",
        "outputId": "1d8748c9-1a10-4732-a78f-82f438a306ef"
      },
      "execution_count": 36,
      "outputs": [
        {
          "output_type": "execute_result",
          "data": {
            "text/plain": [
              "SP    0.161130\n",
              "MG    0.103915\n",
              "BA    0.077817\n",
              "Name: SG_UF_PROVA, dtype: float64"
            ]
          },
          "metadata": {},
          "execution_count": 36
        }
      ]
    },
    {
      "cell_type": "code",
      "source": [
        "ausentes['SG_UF_PROVA'].value_counts(normalize=True)[:3]"
      ],
      "metadata": {
        "colab": {
          "base_uri": "https://localhost:8080/"
        },
        "id": "q2_gmzNs4BoI",
        "outputId": "c9985857-5a61-442d-b933-a9511fac1b5e"
      },
      "execution_count": 35,
      "outputs": [
        {
          "output_type": "execute_result",
          "data": {
            "text/plain": [
              "SP    0.169017\n",
              "MG    0.103934\n",
              "BA    0.077120\n",
              "Name: SG_UF_PROVA, dtype: float64"
            ]
          },
          "metadata": {},
          "execution_count": 35
        }
      ]
    },
    {
      "cell_type": "code",
      "source": [
        "(ausentes['SG_UF_PROVA'].value_counts(normalize=True).sort_index()/df['SG_UF_PROVA'].value_counts(normalize=True).sort_index()).sort_values()"
      ],
      "metadata": {
        "colab": {
          "base_uri": "https://localhost:8080/"
        },
        "id": "pMasEigmoUx-",
        "outputId": "ee094256-0f87-4ace-b1d6-f5d57898ce9b"
      },
      "execution_count": 39,
      "outputs": [
        {
          "output_type": "execute_result",
          "data": {
            "text/plain": [
              "PI    0.822214\n",
              "PB    0.837930\n",
              "RN    0.872395\n",
              "SE    0.875530\n",
              "AL    0.896904\n",
              "MA    0.909848\n",
              "PE    0.929989\n",
              "PA    0.939232\n",
              "CE    0.943293\n",
              "BA    0.991051\n",
              "MG    1.000184\n",
              "RJ    1.008343\n",
              "AC    1.031296\n",
              "GO    1.034365\n",
              "PR    1.039369\n",
              "DF    1.044051\n",
              "SC    1.044100\n",
              "SP    1.048953\n",
              "RS    1.050879\n",
              "AP    1.057131\n",
              "TO    1.057348\n",
              "ES    1.069110\n",
              "RO    1.106519\n",
              "MS    1.118114\n",
              "RR    1.142792\n",
              "MT    1.165242\n",
              "AM    1.275549\n",
              "Name: SG_UF_PROVA, dtype: float64"
            ]
          },
          "metadata": {},
          "execution_count": 39
        }
      ]
    },
    {
      "cell_type": "markdown",
      "source": [
        "Pelas proporções entre ausentes e inscritos, podemos perceber que há alguns estados com uma proporção de ausentes maior que a de inscritos, como AM, MT, RR, MS, RO, ES, TO, AP, RS, SP, SC, DF, PR, GO e AC. E outros com menor proporção de ausentes que a de inscritos, como PI, PB, SE, AL, MA, PE, PA e CE.\n",
        "\n",
        "Portanto esta é uma variável relevante para esta análise. "
      ],
      "metadata": {
        "id": "WEzQ6zPK5AWI"
      }
    },
    {
      "cell_type": "markdown",
      "source": [
        "####Renda"
      ],
      "metadata": {
        "id": "uaW1pASI6GBg"
      }
    },
    {
      "cell_type": "code",
      "source": [
        "data = [df['Q006'], ausentes['Q006']]\n",
        " \n",
        "fig = plt.figure(figsize =(10, 7))\n",
        "ax = fig.add_axes([0, 0, 2, 0.5])\n",
        "ax.hist(data, bins=17, density = True)\n",
        "ax.legend(['inscritos', 'ausentes'], loc='upper right')\n",
        "ax.set_title('Renda da Casa')\n",
        "plt.show()"
      ],
      "metadata": {
        "colab": {
          "base_uri": "https://localhost:8080/",
          "height": 316
        },
        "id": "-CyDz9-Q4Gyg",
        "outputId": "e1653899-63e7-47c8-8cd9-3661c2846b8c"
      },
      "execution_count": 41,
      "outputs": [
        {
          "output_type": "display_data",
          "data": {
            "text/plain": [
              "<Figure size 720x504 with 1 Axes>"
            ],
            "image/png": "[encoded data removed]"
          },
          "metadata": {
            "needs_background": "light"
          }
        }
      ]
    },
    {
      "cell_type": "code",
      "source": [
        "(ausentes['Q006'].value_counts(normalize=True).sort_index()/df['Q006'].value_counts(normalize=True).sort_index()).sort_values()"
      ],
      "metadata": {
        "colab": {
          "base_uri": "https://localhost:8080/"
        },
        "id": "8mcSkbJ3p7QV",
        "outputId": "214f8a1e-ecc1-4d8c-9fd2-2730d8171719"
      },
      "execution_count": 42,
      "outputs": [
        {
          "output_type": "execute_result",
          "data": {
            "text/plain": [
              "K    0.628071\n",
              "N    0.635684\n",
              "M    0.647377\n",
              "L    0.648904\n",
              "O    0.650953\n",
              "P    0.653789\n",
              "J    0.669752\n",
              "I    0.679145\n",
              "Q    0.716425\n",
              "H    0.755519\n",
              "G    0.831845\n",
              "F    0.892912\n",
              "E    0.991445\n",
              "D    1.038424\n",
              "B    1.066635\n",
              "C    1.105738\n",
              "A    1.133405\n",
              "Name: Q006, dtype: float64"
            ]
          },
          "metadata": {},
          "execution_count": 42
        }
      ]
    },
    {
      "cell_type": "markdown",
      "source": [
        "Nesse caso, é possível perceber que, em rendas maiores, a proporção de ausentes é menor. "
      ],
      "metadata": {
        "id": "1Vf08Zx_6qqX"
      }
    },
    {
      "cell_type": "markdown",
      "source": [
        "####Número de pessoas na casa"
      ],
      "metadata": {
        "id": "2ZRYVeko6xW3"
      }
    },
    {
      "cell_type": "code",
      "source": [
        "data = [df['Q005'], ausentes['Q005']]\n",
        " \n",
        "fig = plt.figure(figsize =(10, 7))\n",
        "ax = fig.add_axes([0, 0, 2, 0.5])\n",
        "ax.hist(data, bins=20, density = True)\n",
        "ax.legend(['inscritos', 'ausentes'], loc='upper right')\n",
        "ax.set_title('Número de pessoas que moram na casa')\n",
        "plt.show()"
      ],
      "metadata": {
        "colab": {
          "base_uri": "https://localhost:8080/",
          "height": 316
        },
        "id": "Y9nE5fSk6MiE",
        "outputId": "7f9491d7-eb39-47dc-84e6-0780ed7c9cc8"
      },
      "execution_count": 43,
      "outputs": [
        {
          "output_type": "display_data",
          "data": {
            "text/plain": [
              "<Figure size 720x504 with 1 Axes>"
            ],
            "image/png": "[encoded data removed]"
          },
          "metadata": {
            "needs_background": "light"
          }
        }
      ]
    },
    {
      "cell_type": "code",
      "source": [
        "df['Q005'].value_counts(normalize=True)[:3]"
      ],
      "metadata": {
        "colab": {
          "base_uri": "https://localhost:8080/"
        },
        "id": "tYr26Qsg63rM",
        "outputId": "08d4542d-5b6c-40f0-c742-99dd2106992d"
      },
      "execution_count": 45,
      "outputs": [
        {
          "output_type": "execute_result",
          "data": {
            "text/plain": [
              "4    0.310692\n",
              "3    0.253269\n",
              "5    0.162217\n",
              "Name: Q005, dtype: float64"
            ]
          },
          "metadata": {},
          "execution_count": 45
        }
      ]
    },
    {
      "cell_type": "code",
      "source": [
        "ausentes['Q005'].value_counts(normalize=True)[:3]"
      ],
      "metadata": {
        "colab": {
          "base_uri": "https://localhost:8080/"
        },
        "id": "pCuFyrXj7DUD",
        "outputId": "24c99a54-461c-467d-b73f-9a4450400a3f"
      },
      "execution_count": 46,
      "outputs": [
        {
          "output_type": "execute_result",
          "data": {
            "text/plain": [
              "4    0.275224\n",
              "3    0.253028\n",
              "2    0.160991\n",
              "Name: Q005, dtype: float64"
            ]
          },
          "metadata": {},
          "execution_count": 46
        }
      ]
    },
    {
      "cell_type": "code",
      "source": [
        "(ausentes['Q005'].value_counts(normalize=True).sort_index()/df['Q005'].value_counts(normalize=True).sort_index())"
      ],
      "metadata": {
        "colab": {
          "base_uri": "https://localhost:8080/"
        },
        "id": "p2gKGzNkqZ3S",
        "outputId": "2ef1aab9-fed6-4f50-85ba-8f782e4392be"
      },
      "execution_count": 48,
      "outputs": [
        {
          "output_type": "execute_result",
          "data": {
            "text/plain": [
              "1     1.486072\n",
              "2     1.205267\n",
              "3     0.999050\n",
              "4     0.885844\n",
              "5     0.934706\n",
              "6     1.004234\n",
              "7     1.054266\n",
              "8     1.082702\n",
              "9     1.084119\n",
              "10    1.110387\n",
              "11    1.097078\n",
              "12    1.095631\n",
              "13    1.120532\n",
              "14    1.170332\n",
              "15    1.057583\n",
              "16    0.994946\n",
              "17    1.204584\n",
              "18    1.125748\n",
              "19    1.231286\n",
              "20    1.177711\n",
              "Name: Q005, dtype: float64"
            ]
          },
          "metadata": {},
          "execution_count": 48
        }
      ]
    },
    {
      "cell_type": "markdown",
      "source": [
        "Aqui, percebemos que pessoas que moram com 3 a 5 pessoas se ausentam menos. Enquanto pessoas que moram sozinhas, com mais 1 pessoa ou com mais de 6 pessoas se ausentam mais. "
      ],
      "metadata": {
        "id": "fRysgmvt85pJ"
      }
    },
    {
      "cell_type": "markdown",
      "source": [
        "####Internet"
      ],
      "metadata": {
        "id": "ww95IdmG9Gxa"
      }
    },
    {
      "cell_type": "code",
      "source": [
        "data = [df['Q025'], ausentes['Q025']]\n",
        " \n",
        "fig = plt.figure(figsize =(10, 7))\n",
        "ax = fig.add_axes([0, 0, 1, 0.5])\n",
        "ax.hist(data, bins=2, density = True)\n",
        "ax.legend(['inscritos', 'ausentes'], loc='upper right')\n",
        "ax.set_title('Internet em casa')\n",
        "plt.show()"
      ],
      "metadata": {
        "colab": {
          "base_uri": "https://localhost:8080/",
          "height": 305
        },
        "id": "VeWar-UQ8jGE",
        "outputId": "0f2ab0b8-8de8-4937-e1b2-ca0a9014f980"
      },
      "execution_count": 49,
      "outputs": [
        {
          "output_type": "display_data",
          "data": {
            "text/plain": [
              "<Figure size 720x504 with 1 Axes>"
            ],
            "image/png": "[encoded data removed]"
          },
          "metadata": {
            "needs_background": "light"
          }
        }
      ]
    },
    {
      "cell_type": "code",
      "source": [
        "df['Q025'].value_counts(normalize=True)[:5]"
      ],
      "metadata": {
        "colab": {
          "base_uri": "https://localhost:8080/"
        },
        "id": "iwdGDF_79L33",
        "outputId": "17c6bfc4-c769-4c94-99f1-5dcecde34eca"
      },
      "execution_count": 50,
      "outputs": [
        {
          "output_type": "execute_result",
          "data": {
            "text/plain": [
              "B    0.766472\n",
              "A    0.233528\n",
              "Name: Q025, dtype: float64"
            ]
          },
          "metadata": {},
          "execution_count": 50
        }
      ]
    },
    {
      "cell_type": "code",
      "source": [
        "ausentes['Q025'].value_counts(normalize=True)[:5]"
      ],
      "metadata": {
        "colab": {
          "base_uri": "https://localhost:8080/"
        },
        "id": "IBL0iq8F9kbs",
        "outputId": "9d2781e7-31d1-43b4-b562-c0c43a4ebb13"
      },
      "execution_count": 51,
      "outputs": [
        {
          "output_type": "execute_result",
          "data": {
            "text/plain": [
              "B    0.739252\n",
              "A    0.260748\n",
              "Name: Q025, dtype: float64"
            ]
          },
          "metadata": {},
          "execution_count": 51
        }
      ]
    },
    {
      "cell_type": "code",
      "source": [
        "ausentes['Q025'].value_counts(normalize=True).sort_index()/df['Q025'].value_counts(normalize=True).sort_index()"
      ],
      "metadata": {
        "colab": {
          "base_uri": "https://localhost:8080/"
        },
        "id": "bStf-NKprDZd",
        "outputId": "66830bf6-7481-4d61-e3ae-4ab691cffb22"
      },
      "execution_count": 53,
      "outputs": [
        {
          "output_type": "execute_result",
          "data": {
            "text/plain": [
              "A    1.116563\n",
              "B    0.964486\n",
              "Name: Q025, dtype: float64"
            ]
          },
          "metadata": {},
          "execution_count": 53
        }
      ]
    },
    {
      "cell_type": "markdown",
      "source": [
        "Aqui, temos que pessoas com internet em casa se ausentam menos. \n",
        "\n",
        "Entre os inscritos, 76,6% têm acesso à internet em casa e 23% não. Entre os ausentes, 74% têm acesso à internet em casa e 26% não."
      ],
      "metadata": {
        "id": "yKvoogc89q1v"
      }
    },
    {
      "cell_type": "markdown",
      "source": [
        "###Perfis encontrados"
      ],
      "metadata": {
        "id": "Hk9kaF8dMa_O"
      }
    },
    {
      "cell_type": "markdown",
      "source": [
        "O perfil das maiores ausências proporcionalmente aos inscritos são os seguintes:\n",
        "\n",
        "Em relação à faixa etária, as pessoas entre 26 e 40 anos.\n",
        "\n",
        "Em relação à estado civil, as pessoas casadas, divorciadas ou viúvas (que pode ter relação com a faixa etária).\n",
        "\n",
        "Em relação a cor, as pessoas pretas, pardas ou indígenas.\n",
        "\n",
        "Em relação ao tipo de escola, alunos de escola pública.\n",
        "\n",
        "Em relação a UF, alunos de estados do Norte, Centro-Oeste e Sul.\n",
        "\n",
        "Em relação a renda, pessoas cuja renda da casa vai de 0 a 2000 reais declarados no questionário.\n",
        "\n",
        "Em relação ao número de pessoas que moram na casa, temos 2 grupos. Um de pessoas que moram sozinhas ou com mais 1 pessoas. E outro grupo de pessoas que moram com mais de 6 pessoas. \n",
        "\n",
        "Em relação a ter internet em casa, pessoas que não têm.\n",
        "\n",
        "\n"
      ],
      "metadata": {
        "id": "CZi6HGhkQs_M"
      }
    }
  ]
}