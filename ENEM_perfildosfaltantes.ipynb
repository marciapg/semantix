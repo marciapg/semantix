{
  "nbformat": 4,
  "nbformat_minor": 0,
  "metadata": {
    "colab": {
      "provenance": [],
      "authorship_tag": "ABX9TyN/3gExAP64xlxMBQqvFMTq"
    },
    "kernelspec": {
      "name": "python3",
      "display_name": "Python 3"
    },
    "language_info": {
      "name": "python"
    }
  },
  "cells": [
    {
      "cell_type": "markdown",
      "source": [
        "#Análise de perfil de ausentes no ENEM 2019"
      ],
      "metadata": {
        "id": "HHR7QhTH3Mku"
      }
    },
    {
      "cell_type": "markdown",
      "source": [
        "O Enem avalia o desempenho escolar dos estudantes ao término da educação básica. Desde 2014, é uma das principais portas de entrada para a educação superior no Brasil, por meio do Sistema de Seleção Unificada (Sisu).\n",
        "\n",
        "Segundo o presidente do INEP, no período pré pandemia Covid-19, era esperado uma porcentagem entre 22 e 27% de ausentes. Já durante os anos de 2020 e 2021, a ausência aumentou muito, chegando a 51,5%.  \n",
        "\n",
        "Gostaríamos de analisar os dados dos candidatos que se ausentam da prova e, se possível, traçar algum perfil que pudesse ser útil para entender melhor como e porque isso ocorre. \n",
        "\n",
        "Devido às disparidades de ausências no período da pandemia, escolhemos neste momento trabalhar com os dados de 2019, na expectativa que as porcentagens de ausência se reequilibrem no futuro. "
      ],
      "metadata": {
        "id": "7V4jh5Yy3NOd"
      }
    },
    {
      "cell_type": "markdown",
      "source": [
        "##Seleção de dados e variáveis"
      ],
      "metadata": {
        "id": "lJK9iRmj3WMF"
      }
    },
    {
      "cell_type": "markdown",
      "source": [
        "Nessa etapa, excluímos as pessoas que se inscreveram como treineiros.\n",
        "\n",
        "Também selecionamos apenas as colunas que utilizaremos pra a análise dos perfis.\n",
        "A intenção é diminuir os gastos com recursos e agilizar as análises.\n",
        "\n",
        "Em seguida, construímos uma nova coluna, onde definimos os ausentes, eliminados e presentes conforme a seguir:\n",
        "\n",
        "ausência = 0,\n",
        "presença = 1,\n",
        "eliminação = 2 \n",
        "\n",
        "Sendo ausência, referente a ausência em pelo menos uma das provas, eliminação, referente a eliminação em pelo menos uma das provas e presença, referente a presença em TODAS as provas.\n",
        "\n",
        "Iniciaremos as análises a partir desse conjunto de dados já trabalhado, conforme código abaixo."
      ],
      "metadata": {
        "id": "Q2yi7Dvs3eUE"
      }
    },
    {
      "cell_type": "markdown",
      "source": [
        "```\n",
        "from google.colab import drive\n",
        "drive.mount('/content/drive')\n",
        "\n",
        "import pandas as pd\n",
        "enem2019 = pd.read_csv('/content/drive/My Drive/MICRODADOS_ENEM_2019.csv', encoding='latin-1', sep=';')\n",
        "\n",
        "df = enem2019[enem2019['IN_TREINEIRO'] == 0]\n",
        "\n",
        "presenca = df[(df['TP_PRESENCA_CN'] == 1) & (df['TP_PRESENCA_CH'] == 1) & (df['TP_PRESENCA_LC'] == 1) & (df['TP_PRESENCA_MT'] == 1)]\n",
        "eliminado = df[(df['TP_PRESENCA_CN'] == 2) | (df['TP_PRESENCA_CH'] == 2) | (df['TP_PRESENCA_LC'] == 2) | (df['TP_PRESENCA_MT'] == 2)]\n",
        "ausencia = df[(df['TP_PRESENCA_CN'] == 0) | (df['TP_PRESENCA_CH'] == 0) | (df['TP_PRESENCA_LC'] == 0) | (df['TP_PRESENCA_MT'] == 0)]\n",
        "\n",
        "presenca['presenca'] = 1\n",
        "eliminado['presenca'] = 2\n",
        "ausencia['presenca'] = 0\n",
        "\n",
        "novo = pd.concat([presenca, eliminado, ausencia])\n",
        "df_ordenado = novo.sort_index()\n",
        "\n",
        "df_ordenado = df_ordenado[['NU_INSCRICAO', 'TP_FAIXA_ETARIA', 'TP_SEXO',  'TP_ESTADO_CIVIL', \n",
        "         'TP_COR_RACA', 'TP_NACIONALIDADE', 'TP_ST_CONCLUSAO', \n",
        "         'TP_ANO_CONCLUIU', 'TP_ESCOLA', 'TP_ENSINO', \n",
        "         'CO_MUNICIPIO_ESC', 'SG_UF_ESC', 'CO_MUNICIPIO_PROVA', 'SG_UF_PROVA', \n",
        "         'Q001', 'Q002', 'Q003', 'Q004', 'Q005', 'Q006', 'Q007', 'Q008', 'Q009',\n",
        "         'Q010', 'Q011', 'Q012', 'Q013', 'Q014', 'Q015', 'Q016', 'Q017', 'Q018',\n",
        "         'Q019', 'Q020', 'Q021', 'Q022', 'Q023', 'Q024', 'Q025', 'presenca']]\n",
        "\n",
        "df_ordenado.to_csv('MICRODADOS_ENEM_2019_filtrado2.csv', encoding='latin-1', sep=';')\n",
        "```\n",
        "\n"
      ],
      "metadata": {
        "id": "ulzlirXniOyS"
      }
    },
    {
      "cell_type": "markdown",
      "source": [
        "##Análise Descritiva dos perfis de ausentes e presentes"
      ],
      "metadata": {
        "id": "jGFp4M0t3yZm"
      }
    },
    {
      "cell_type": "markdown",
      "source": [
        "Iniciaremos aqui a análise descritiva dos inscrito, ausentes e presentes."
      ],
      "metadata": {
        "id": "IvseGiw537y9"
      }
    },
    {
      "cell_type": "code",
      "source": [
        "from google.colab import drive\n",
        "drive.mount('/content/drive')"
      ],
      "metadata": {
        "id": "kRSu7nP9yf8m",
        "colab": {
          "base_uri": "https://localhost:8080/"
        },
        "outputId": "cb095e56-26d6-4d9c-b23a-8cf78540a78d"
      },
      "execution_count": null,
      "outputs": [
        {
          "output_type": "stream",
          "name": "stdout",
          "text": [
            "Drive already mounted at /content/drive; to attempt to forcibly remount, call drive.mount(\"/content/drive\", force_remount=True).\n"
          ]
        }
      ]
    },
    {
      "cell_type": "code",
      "source": [
        "import pandas as pd\n",
        "df = pd.read_csv('/content/drive/My Drive/MICRODADOS_ENEM_2019_filtrado2.csv', encoding='latin-1', sep=';')"
      ],
      "metadata": {
        "id": "JPlzMrAuyxCG"
      },
      "execution_count": null,
      "outputs": []
    },
    {
      "cell_type": "code",
      "source": [
        "df.head()"
      ],
      "metadata": {
        "id": "MwbDRZ9xrdce",
        "colab": {
          "base_uri": "https://localhost:8080/",
          "height": 317
        },
        "outputId": "b071a289-bac8-4fb7-b0c1-7fa0de3e2bce"
      },
      "execution_count": null,
      "outputs": [
        {
          "output_type": "execute_result",
          "data": {
            "text/plain": [
              "   Unnamed: 0  NU_INSCRICAO  TP_FAIXA_ETARIA TP_SEXO  TP_ESTADO_CIVIL  \\\n",
              "0           0  190001595656               13       M                1   \n",
              "1           1  190001421546                8       M                1   \n",
              "2           2  190001133210               13       F                1   \n",
              "3           3  190001199383               10       F                1   \n",
              "4           4  190001237802                7       F                1   \n",
              "\n",
              "   TP_COR_RACA  TP_NACIONALIDADE  TP_ST_CONCLUSAO  TP_ANO_CONCLUIU  TP_ESCOLA  \\\n",
              "0            3                 1                1               11          1   \n",
              "1            1                 1                1                5          1   \n",
              "2            3                 1                1               13          1   \n",
              "3            1                 1                1                4          1   \n",
              "4            1                 1                1                4          1   \n",
              "\n",
              "   ...  Q017  Q018 Q019  Q020 Q021 Q022 Q023 Q024 Q025  presenca  \n",
              "0  ...     A     A    A     A    A    C    A    C    B         0  \n",
              "1  ...     A     A    B     A    A    E    A    A    B         0  \n",
              "2  ...     A     A    B     A    A    C    A    A    B         0  \n",
              "3  ...     A     A    C     A    B    D    A    B    B         1  \n",
              "4  ...     A     A    B     A    A    C    B    B    B         1  \n",
              "\n",
              "[5 rows x 41 columns]"
            ],
            "text/html": [
              "\n",
              "  <div id=\"df-80058283-9049-4435-85f4-f9cf4ee3bed4\">\n",
              "    <div class=\"colab-df-container\">\n",
              "      <div>\n",
              "<style scoped>\n",
              "    .dataframe tbody tr th:only-of-type {\n",
              "        vertical-align: middle;\n",
              "    }\n",
              "\n",
              "    .dataframe tbody tr th {\n",
              "        vertical-align: top;\n",
              "    }\n",
              "\n",
              "    .dataframe thead th {\n",
              "        text-align: right;\n",
              "    }\n",
              "</style>\n",
              "<table border=\"1\" class=\"dataframe\">\n",
              "  <thead>\n",
              "    <tr style=\"text-align: right;\">\n",
              "      <th></th>\n",
              "      <th>Unnamed: 0</th>\n",
              "      <th>NU_INSCRICAO</th>\n",
              "      <th>TP_FAIXA_ETARIA</th>\n",
              "      <th>TP_SEXO</th>\n",
              "      <th>TP_ESTADO_CIVIL</th>\n",
              "      <th>TP_COR_RACA</th>\n",
              "      <th>TP_NACIONALIDADE</th>\n",
              "      <th>TP_ST_CONCLUSAO</th>\n",
              "      <th>TP_ANO_CONCLUIU</th>\n",
              "      <th>TP_ESCOLA</th>\n",
              "      <th>...</th>\n",
              "      <th>Q017</th>\n",
              "      <th>Q018</th>\n",
              "      <th>Q019</th>\n",
              "      <th>Q020</th>\n",
              "      <th>Q021</th>\n",
              "      <th>Q022</th>\n",
              "      <th>Q023</th>\n",
              "      <th>Q024</th>\n",
              "      <th>Q025</th>\n",
              "      <th>presenca</th>\n",
              "    </tr>\n",
              "  </thead>\n",
              "  <tbody>\n",
              "    <tr>\n",
              "      <th>0</th>\n",
              "      <td>0</td>\n",
              "      <td>190001595656</td>\n",
              "      <td>13</td>\n",
              "      <td>M</td>\n",
              "      <td>1</td>\n",
              "      <td>3</td>\n",
              "      <td>1</td>\n",
              "      <td>1</td>\n",
              "      <td>11</td>\n",
              "      <td>1</td>\n",
              "      <td>...</td>\n",
              "      <td>A</td>\n",
              "      <td>A</td>\n",
              "      <td>A</td>\n",
              "      <td>A</td>\n",
              "      <td>A</td>\n",
              "      <td>C</td>\n",
              "      <td>A</td>\n",
              "      <td>C</td>\n",
              "      <td>B</td>\n",
              "      <td>0</td>\n",
              "    </tr>\n",
              "    <tr>\n",
              "      <th>1</th>\n",
              "      <td>1</td>\n",
              "      <td>190001421546</td>\n",
              "      <td>8</td>\n",
              "      <td>M</td>\n",
              "      <td>1</td>\n",
              "      <td>1</td>\n",
              "      <td>1</td>\n",
              "      <td>1</td>\n",
              "      <td>5</td>\n",
              "      <td>1</td>\n",
              "      <td>...</td>\n",
              "      <td>A</td>\n",
              "      <td>A</td>\n",
              "      <td>B</td>\n",
              "      <td>A</td>\n",
              "      <td>A</td>\n",
              "      <td>E</td>\n",
              "      <td>A</td>\n",
              "      <td>A</td>\n",
              "      <td>B</td>\n",
              "      <td>0</td>\n",
              "    </tr>\n",
              "    <tr>\n",
              "      <th>2</th>\n",
              "      <td>2</td>\n",
              "      <td>190001133210</td>\n",
              "      <td>13</td>\n",
              "      <td>F</td>\n",
              "      <td>1</td>\n",
              "      <td>3</td>\n",
              "      <td>1</td>\n",
              "      <td>1</td>\n",
              "      <td>13</td>\n",
              "      <td>1</td>\n",
              "      <td>...</td>\n",
              "      <td>A</td>\n",
              "      <td>A</td>\n",
              "      <td>B</td>\n",
              "      <td>A</td>\n",
              "      <td>A</td>\n",
              "      <td>C</td>\n",
              "      <td>A</td>\n",
              "      <td>A</td>\n",
              "      <td>B</td>\n",
              "      <td>0</td>\n",
              "    </tr>\n",
              "    <tr>\n",
              "      <th>3</th>\n",
              "      <td>3</td>\n",
              "      <td>190001199383</td>\n",
              "      <td>10</td>\n",
              "      <td>F</td>\n",
              "      <td>1</td>\n",
              "      <td>1</td>\n",
              "      <td>1</td>\n",
              "      <td>1</td>\n",
              "      <td>4</td>\n",
              "      <td>1</td>\n",
              "      <td>...</td>\n",
              "      <td>A</td>\n",
              "      <td>A</td>\n",
              "      <td>C</td>\n",
              "      <td>A</td>\n",
              "      <td>B</td>\n",
              "      <td>D</td>\n",
              "      <td>A</td>\n",
              "      <td>B</td>\n",
              "      <td>B</td>\n",
              "      <td>1</td>\n",
              "    </tr>\n",
              "    <tr>\n",
              "      <th>4</th>\n",
              "      <td>4</td>\n",
              "      <td>190001237802</td>\n",
              "      <td>7</td>\n",
              "      <td>F</td>\n",
              "      <td>1</td>\n",
              "      <td>1</td>\n",
              "      <td>1</td>\n",
              "      <td>1</td>\n",
              "      <td>4</td>\n",
              "      <td>1</td>\n",
              "      <td>...</td>\n",
              "      <td>A</td>\n",
              "      <td>A</td>\n",
              "      <td>B</td>\n",
              "      <td>A</td>\n",
              "      <td>A</td>\n",
              "      <td>C</td>\n",
              "      <td>B</td>\n",
              "      <td>B</td>\n",
              "      <td>B</td>\n",
              "      <td>1</td>\n",
              "    </tr>\n",
              "  </tbody>\n",
              "</table>\n",
              "<p>5 rows × 41 columns</p>\n",
              "</div>\n",
              "      <button class=\"colab-df-convert\" onclick=\"convertToInteractive('df-80058283-9049-4435-85f4-f9cf4ee3bed4')\"\n",
              "              title=\"Convert this dataframe to an interactive table.\"\n",
              "              style=\"display:none;\">\n",
              "        \n",
              "  <svg xmlns=\"http://www.w3.org/2000/svg\" height=\"24px\"viewBox=\"0 0 24 24\"\n",
              "       width=\"24px\">\n",
              "    <path d=\"M0 0h24v24H0V0z\" fill=\"none\"/>\n",
              "    <path d=\"M18.56 5.44l.94 2.06.94-2.06 2.06-.94-2.06-.94-.94-2.06-.94 2.06-2.06.94zm-11 1L8.5 8.5l.94-2.06 2.06-.94-2.06-.94L8.5 2.5l-.94 2.06-2.06.94zm10 10l.94 2.06.94-2.06 2.06-.94-2.06-.94-.94-2.06-.94 2.06-2.06.94z\"/><path d=\"M17.41 7.96l-1.37-1.37c-.4-.4-.92-.59-1.43-.59-.52 0-1.04.2-1.43.59L10.3 9.45l-7.72 7.72c-.78.78-.78 2.05 0 2.83L4 21.41c.39.39.9.59 1.41.59.51 0 1.02-.2 1.41-.59l7.78-7.78 2.81-2.81c.8-.78.8-2.07 0-2.86zM5.41 20L4 18.59l7.72-7.72 1.47 1.35L5.41 20z\"/>\n",
              "  </svg>\n",
              "      </button>\n",
              "      \n",
              "  <style>\n",
              "    .colab-df-container {\n",
              "      display:flex;\n",
              "      flex-wrap:wrap;\n",
              "      gap: 12px;\n",
              "    }\n",
              "\n",
              "    .colab-df-convert {\n",
              "      background-color: #E8F0FE;\n",
              "      border: none;\n",
              "      border-radius: 50%;\n",
              "      cursor: pointer;\n",
              "      display: none;\n",
              "      fill: #1967D2;\n",
              "      height: 32px;\n",
              "      padding: 0 0 0 0;\n",
              "      width: 32px;\n",
              "    }\n",
              "\n",
              "    .colab-df-convert:hover {\n",
              "      background-color: #E2EBFA;\n",
              "      box-shadow: 0px 1px 2px rgba(60, 64, 67, 0.3), 0px 1px 3px 1px rgba(60, 64, 67, 0.15);\n",
              "      fill: #174EA6;\n",
              "    }\n",
              "\n",
              "    [theme=dark] .colab-df-convert {\n",
              "      background-color: #3B4455;\n",
              "      fill: #D2E3FC;\n",
              "    }\n",
              "\n",
              "    [theme=dark] .colab-df-convert:hover {\n",
              "      background-color: #434B5C;\n",
              "      box-shadow: 0px 1px 3px 1px rgba(0, 0, 0, 0.15);\n",
              "      filter: drop-shadow(0px 1px 2px rgba(0, 0, 0, 0.3));\n",
              "      fill: #FFFFFF;\n",
              "    }\n",
              "  </style>\n",
              "\n",
              "      <script>\n",
              "        const buttonEl =\n",
              "          document.querySelector('#df-80058283-9049-4435-85f4-f9cf4ee3bed4 button.colab-df-convert');\n",
              "        buttonEl.style.display =\n",
              "          google.colab.kernel.accessAllowed ? 'block' : 'none';\n",
              "\n",
              "        async function convertToInteractive(key) {\n",
              "          const element = document.querySelector('#df-80058283-9049-4435-85f4-f9cf4ee3bed4');\n",
              "          const dataTable =\n",
              "            await google.colab.kernel.invokeFunction('convertToInteractive',\n",
              "                                                     [key], {});\n",
              "          if (!dataTable) return;\n",
              "\n",
              "          const docLinkHtml = 'Like what you see? Visit the ' +\n",
              "            '<a target=\"_blank\" href=https://colab.research.google.com/notebooks/data_table.ipynb>data table notebook</a>'\n",
              "            + ' to learn more about interactive tables.';\n",
              "          element.innerHTML = '';\n",
              "          dataTable['output_type'] = 'display_data';\n",
              "          await google.colab.output.renderOutput(dataTable, element);\n",
              "          const docLink = document.createElement('div');\n",
              "          docLink.innerHTML = docLinkHtml;\n",
              "          element.appendChild(docLink);\n",
              "        }\n",
              "      </script>\n",
              "    </div>\n",
              "  </div>\n",
              "  "
            ]
          },
          "metadata": {},
          "execution_count": 7
        }
      ]
    },
    {
      "cell_type": "code",
      "source": [
        "df.columns"
      ],
      "metadata": {
        "colab": {
          "base_uri": "https://localhost:8080/"
        },
        "id": "LkqadNCDnnJR",
        "outputId": "5150861b-151b-41b5-84f2-fb9785ef0484"
      },
      "execution_count": null,
      "outputs": [
        {
          "output_type": "execute_result",
          "data": {
            "text/plain": [
              "Index(['Unnamed: 0', 'NU_INSCRICAO', 'TP_FAIXA_ETARIA', 'TP_SEXO',\n",
              "       'TP_ESTADO_CIVIL', 'TP_COR_RACA', 'TP_NACIONALIDADE', 'TP_ST_CONCLUSAO',\n",
              "       'TP_ANO_CONCLUIU', 'TP_ESCOLA', 'TP_ENSINO', 'CO_MUNICIPIO_ESC',\n",
              "       'SG_UF_ESC', 'CO_MUNICIPIO_PROVA', 'SG_UF_PROVA', 'Q001', 'Q002',\n",
              "       'Q003', 'Q004', 'Q005', 'Q006', 'Q007', 'Q008', 'Q009', 'Q010', 'Q011',\n",
              "       'Q012', 'Q013', 'Q014', 'Q015', 'Q016', 'Q017', 'Q018', 'Q019', 'Q020',\n",
              "       'Q021', 'Q022', 'Q023', 'Q024', 'Q025', 'presenca'],\n",
              "      dtype='object')"
            ]
          },
          "metadata": {},
          "execution_count": 8
        }
      ]
    },
    {
      "cell_type": "code",
      "source": [
        "import matplotlib.pyplot as plt"
      ],
      "metadata": {
        "id": "mIuoQ57jZi97"
      },
      "execution_count": null,
      "outputs": []
    },
    {
      "cell_type": "code",
      "source": [
        "presentes = df[df['presenca']==1]\n",
        "ausentes = df[df['presenca']==0]\n",
        "eliminados = df[df['presenca']==2]"
      ],
      "metadata": {
        "id": "xYMKIDUPpWIp"
      },
      "execution_count": null,
      "outputs": []
    },
    {
      "cell_type": "markdown",
      "source": [
        "Após importação dos dados, iniaremos as análises, por variável, comparando a porcentagem de ausentes com a porcentagem de inscritos, a fim de verificar se há diferença nas distribuição de ausentes e inscritos. \n",
        "\n",
        "Aqui, df é o dataframe com o total de inscritos e ausentes é o dataframe com o total de ausentes. \n",
        "\n",
        "Nos gráficos, em azul estão os inscritos e em laranja os ausentes."
      ],
      "metadata": {
        "id": "1hYcV2U6iQ3d"
      }
    },
    {
      "cell_type": "markdown",
      "source": [
        "####Faixa Etaria"
      ],
      "metadata": {
        "id": "dzEdyyhdn8Ux"
      }
    },
    {
      "cell_type": "code",
      "source": [
        "data = [df['TP_FAIXA_ETARIA'], ausentes['TP_FAIXA_ETARIA']]\n",
        " \n",
        "fig = plt.figure(figsize =(10, 7))\n",
        "ax = fig.add_axes([0, 0, 1, 0.5])\n",
        "bp = ax.hist(data, bins=20, density = True)\n",
        "plt.show()"
      ],
      "metadata": {
        "colab": {
          "base_uri": "https://localhost:8080/",
          "height": 300
        },
        "id": "tponwFXWp_zB",
        "outputId": "095d87fa-27a5-49ad-dbb0-3f7959a1f5ce"
      },
      "execution_count": null,
      "outputs": [
        {
          "output_type": "display_data",
          "data": {
            "text/plain": [
              "<Figure size 720x504 with 1 Axes>"
            ],
            "image/png": "[encoded data removed]"
          },
          "metadata": {
            "needs_background": "light"
          }
        }
      ]
    },
    {
      "cell_type": "code",
      "source": [
        "df['TP_FAIXA_ETARIA'].value_counts(normalize=True)[:5]"
      ],
      "metadata": {
        "colab": {
          "base_uri": "https://localhost:8080/"
        },
        "id": "8c7Ro0zArzgu",
        "outputId": "20019af7-ced5-4ee4-dbcc-08f8b3ea7439"
      },
      "execution_count": null,
      "outputs": [
        {
          "output_type": "execute_result",
          "data": {
            "text/plain": [
              "3     0.185002\n",
              "2     0.145631\n",
              "4     0.126704\n",
              "5     0.090714\n",
              "11    0.089852\n",
              "Name: TP_FAIXA_ETARIA, dtype: float64"
            ]
          },
          "metadata": {},
          "execution_count": 28
        }
      ]
    },
    {
      "cell_type": "code",
      "source": [
        "ausentes['TP_FAIXA_ETARIA'].value_counts(normalize=True)[:5]"
      ],
      "metadata": {
        "colab": {
          "base_uri": "https://localhost:8080/"
        },
        "id": "z_1enRzur6GY",
        "outputId": "bb61dbaa-2ea4-4af2-eb15-bd730759dc03"
      },
      "execution_count": null,
      "outputs": [
        {
          "output_type": "execute_result",
          "data": {
            "text/plain": [
              "11    0.137916\n",
              "3     0.111523\n",
              "4     0.110105\n",
              "5     0.094043\n",
              "12    0.081872\n",
              "Name: TP_FAIXA_ETARIA, dtype: float64"
            ]
          },
          "metadata": {},
          "execution_count": 29
        }
      ]
    },
    {
      "cell_type": "markdown",
      "source": [
        "Através do histograma, temos indício que as distribuições das faixas etárias são diferentes entre o total de inscritos e os ausentes. Portanto é uma característica relevante para a análise.\n",
        "\n",
        "Entre os inscritos, 54,8% estão entre 17 e 20 anos.\n",
        "Enquanto, entre os ausentes, 31,5% estão entre 18 e 20 anos e 22% estão entre 26 e 35 anos."
      ],
      "metadata": {
        "id": "m-FBgxkMrXUx"
      }
    },
    {
      "cell_type": "markdown",
      "source": [
        "####Sexo"
      ],
      "metadata": {
        "id": "_kc0Yq3GtS6x"
      }
    },
    {
      "cell_type": "code",
      "source": [
        "data = [df['TP_SEXO'], ausentes['TP_SEXO']]\n",
        " \n",
        "fig = plt.figure(figsize =(10, 7))\n",
        "ax = fig.add_axes([0, 0, 1, 0.5])\n",
        "bp = ax.hist(data, bins=2, density = True)\n",
        "plt.show()"
      ],
      "metadata": {
        "colab": {
          "base_uri": "https://localhost:8080/",
          "height": 289
        },
        "id": "i70KuGDxux0R",
        "outputId": "57a30f31-fd5b-471a-dd6a-440874dc58c5"
      },
      "execution_count": null,
      "outputs": [
        {
          "output_type": "display_data",
          "data": {
            "text/plain": [
              "<Figure size 720x504 with 1 Axes>"
            ],
            "image/png": "[encoded data removed]"
          },
          "metadata": {
            "needs_background": "light"
          }
        }
      ]
    },
    {
      "cell_type": "code",
      "source": [
        "df['TP_SEXO'].value_counts(normalize=True)[:5]"
      ],
      "metadata": {
        "colab": {
          "base_uri": "https://localhost:8080/"
        },
        "id": "Kivczfo-p_l5",
        "outputId": "0182e7f7-5476-4ad0-d32c-09442736fec1"
      },
      "execution_count": null,
      "outputs": [
        {
          "output_type": "execute_result",
          "data": {
            "text/plain": [
              "F    0.590463\n",
              "M    0.409537\n",
              "Name: TP_SEXO, dtype: float64"
            ]
          },
          "metadata": {},
          "execution_count": 5
        }
      ]
    },
    {
      "cell_type": "code",
      "source": [
        "ausentes['TP_SEXO'].value_counts(normalize=True)[:5]"
      ],
      "metadata": {
        "colab": {
          "base_uri": "https://localhost:8080/"
        },
        "id": "GOksCePOp_Vh",
        "outputId": "b242b92f-4f35-45cd-8ff5-549e0d63168d"
      },
      "execution_count": null,
      "outputs": [
        {
          "output_type": "execute_result",
          "data": {
            "text/plain": [
              "F    0.593962\n",
              "M    0.406038\n",
              "Name: TP_SEXO, dtype: float64"
            ]
          },
          "metadata": {},
          "execution_count": 6
        }
      ]
    },
    {
      "cell_type": "markdown",
      "source": [
        "Pelas propoções, temos indício que as distribuições dos sexos não são diferentes entre o total de inscritos e os ausentes. Portanto não é uma característica relevante para a análise.\n",
        "\n",
        "Entre os inscritos, 59,04% são do sexo feminino. Enquanto, entre os ausentes, 59,39% são do sexo feminino."
      ],
      "metadata": {
        "id": "jKB3Jyp8t55Y"
      }
    },
    {
      "cell_type": "markdown",
      "source": [
        "####Estado Civil"
      ],
      "metadata": {
        "id": "iu3HpAK_uafp"
      }
    },
    {
      "cell_type": "code",
      "source": [
        "data = [df['TP_ESTADO_CIVIL'], ausentes['TP_ESTADO_CIVIL']]\n",
        " \n",
        "fig = plt.figure(figsize =(10, 7))\n",
        "ax = fig.add_axes([0, 0, 1, 0.5])\n",
        "bp = ax.hist(data, bins=5, density = True)\n",
        "plt.show()"
      ],
      "metadata": {
        "id": "2K86bdyKarBn",
        "colab": {
          "base_uri": "https://localhost:8080/",
          "height": 300
        },
        "outputId": "e7820d34-1bd6-4650-9fbb-023917d78f80"
      },
      "execution_count": null,
      "outputs": [
        {
          "output_type": "display_data",
          "data": {
            "text/plain": [
              "<Figure size 720x504 with 1 Axes>"
            ],
            "image/png": "[encoded data removed]"
          },
          "metadata": {
            "needs_background": "light"
          }
        }
      ]
    },
    {
      "cell_type": "code",
      "source": [
        "df['TP_ESTADO_CIVIL'].value_counts(normalize=True)[:5]"
      ],
      "metadata": {
        "colab": {
          "base_uri": "https://localhost:8080/"
        },
        "id": "CDAORksQur5J",
        "outputId": "805c038f-d493-487c-e1c1-6a07862ee6d8"
      },
      "execution_count": null,
      "outputs": [
        {
          "output_type": "execute_result",
          "data": {
            "text/plain": [
              "1    0.850259\n",
              "2    0.087617\n",
              "0    0.041858\n",
              "3    0.018903\n",
              "4    0.001363\n",
              "Name: TP_ESTADO_CIVIL, dtype: float64"
            ]
          },
          "metadata": {},
          "execution_count": 13
        }
      ]
    },
    {
      "cell_type": "code",
      "source": [
        "ausentes['TP_ESTADO_CIVIL'].value_counts(normalize=True)[:5]"
      ],
      "metadata": {
        "colab": {
          "base_uri": "https://localhost:8080/"
        },
        "id": "EQtEUky_vPJs",
        "outputId": "2e3fd39f-f9d6-40be-9420-ab173b94ae58"
      },
      "execution_count": null,
      "outputs": [
        {
          "output_type": "execute_result",
          "data": {
            "text/plain": [
              "1    0.782741\n",
              "2    0.131522\n",
              "0    0.056751\n",
              "3    0.027104\n",
              "4    0.001881\n",
              "Name: TP_ESTADO_CIVIL, dtype: float64"
            ]
          },
          "metadata": {},
          "execution_count": 14
        }
      ]
    },
    {
      "cell_type": "markdown",
      "source": [
        "Há indícios de que os solteiros se ausentam menos do que os casados ou divorciados. \n",
        "\n",
        "Enquanto 85% dos inscritos são solteiros e 10,% são casados ou divorciados,  apenas 78% dos ausentes são solteiros e 15,9% são casados ou divorciados. "
      ],
      "metadata": {
        "id": "LWhMojCPvj7x"
      }
    },
    {
      "cell_type": "markdown",
      "source": [
        "####Cor Raça"
      ],
      "metadata": {
        "id": "_Jt69xVkwQt5"
      }
    },
    {
      "cell_type": "code",
      "source": [
        "data = [df['TP_COR_RACA'], ausentes['TP_COR_RACA']]\n",
        " \n",
        "fig = plt.figure(figsize =(10, 7))\n",
        "ax = fig.add_axes([0, 0, 1, 0.5])\n",
        "bp = ax.hist(data, bins=6, density = True)\n",
        "plt.show()"
      ],
      "metadata": {
        "colab": {
          "base_uri": "https://localhost:8080/",
          "height": 300
        },
        "id": "AnSlQhEGvSgg",
        "outputId": "b811e05a-5559-4ec7-c093-64d4f1b9b1e9"
      },
      "execution_count": null,
      "outputs": [
        {
          "output_type": "display_data",
          "data": {
            "text/plain": [
              "<Figure size 720x504 with 1 Axes>"
            ],
            "image/png": "[encoded data removed]"
          },
          "metadata": {
            "needs_background": "light"
          }
        }
      ]
    },
    {
      "cell_type": "code",
      "source": [
        "df['TP_COR_RACA'].value_counts(normalize=True)[:5]"
      ],
      "metadata": {
        "colab": {
          "base_uri": "https://localhost:8080/"
        },
        "id": "kSlwn6OawYSF",
        "outputId": "f15d40bc-4a6a-497b-850d-4b02742dc377"
      },
      "execution_count": null,
      "outputs": [
        {
          "output_type": "execute_result",
          "data": {
            "text/plain": [
              "3    0.472955\n",
              "1    0.344146\n",
              "2    0.134041\n",
              "4    0.022558\n",
              "0    0.019889\n",
              "Name: TP_COR_RACA, dtype: float64"
            ]
          },
          "metadata": {},
          "execution_count": 16
        }
      ]
    },
    {
      "cell_type": "code",
      "source": [
        "ausentes['TP_COR_RACA'].value_counts(normalize=True)[:5]"
      ],
      "metadata": {
        "colab": {
          "base_uri": "https://localhost:8080/"
        },
        "id": "SwrcPoqowhhg",
        "outputId": "f79567d7-6e06-4ca4-f56c-6524c78d5431"
      },
      "execution_count": null,
      "outputs": [
        {
          "output_type": "execute_result",
          "data": {
            "text/plain": [
              "3    0.484449\n",
              "1    0.321455\n",
              "2    0.143187\n",
              "4    0.022417\n",
              "0    0.021117\n",
              "Name: TP_COR_RACA, dtype: float64"
            ]
          },
          "metadata": {},
          "execution_count": 17
        }
      ]
    },
    {
      "cell_type": "markdown",
      "source": [
        "Há uma pequena diferença entre a distribuição das cores dos inscritos e ausentes que precisa ser investigada, para sabermos se há relevância nessa variável ou não. \n",
        "\n",
        "Entre os inscritos, 34,4% são brancos e 60,7 são pretos ou pardos.\n",
        "Entre os ausentes, 32,14% são brancos e 62,7 são pretos ou pardos. "
      ],
      "metadata": {
        "id": "Z7TK-r-kwlHZ"
      }
    },
    {
      "cell_type": "markdown",
      "source": [
        "####Tipo de escola"
      ],
      "metadata": {
        "id": "OlwKjiWXxpTo"
      }
    },
    {
      "cell_type": "code",
      "source": [
        "data = [df['TP_ESCOLA'], ausentes['TP_ESCOLA']]\n",
        " \n",
        "fig = plt.figure(figsize =(10, 7))\n",
        "ax = fig.add_axes([0, 0, 1, 0.5])\n",
        "bp = ax.hist(data, bins=3, density = True)\n",
        "plt.show()"
      ],
      "metadata": {
        "colab": {
          "base_uri": "https://localhost:8080/",
          "height": 300
        },
        "id": "P-ybRGFrwkPk",
        "outputId": "1eac1d02-f9be-4448-b0bb-bd15c6aa95e4"
      },
      "execution_count": null,
      "outputs": [
        {
          "output_type": "display_data",
          "data": {
            "text/plain": [
              "<Figure size 720x504 with 1 Axes>"
            ],
            "image/png": "[encoded data removed]"
          },
          "metadata": {
            "needs_background": "light"
          }
        }
      ]
    },
    {
      "cell_type": "code",
      "source": [
        "df['TP_ESCOLA'].value_counts(normalize=True)[:5]"
      ],
      "metadata": {
        "colab": {
          "base_uri": "https://localhost:8080/"
        },
        "id": "1CVoLACxxwX0",
        "outputId": "caaf58ae-c15a-4653-bb60-47bd7717c78d"
      },
      "execution_count": null,
      "outputs": [
        {
          "output_type": "execute_result",
          "data": {
            "text/plain": [
              "1    0.672690\n",
              "2    0.278493\n",
              "3    0.048817\n",
              "Name: TP_ESCOLA, dtype: float64"
            ]
          },
          "metadata": {},
          "execution_count": 22
        }
      ]
    },
    {
      "cell_type": "code",
      "source": [
        "ausentes['TP_ESCOLA'].value_counts(normalize=True)[:5]"
      ],
      "metadata": {
        "colab": {
          "base_uri": "https://localhost:8080/"
        },
        "id": "vUXejzsbxzgs",
        "outputId": "00622f10-4e36-44d6-922c-0c1c324a0a1a"
      },
      "execution_count": null,
      "outputs": [
        {
          "output_type": "execute_result",
          "data": {
            "text/plain": [
              "1    0.809891\n",
              "2    0.181548\n",
              "3    0.008561\n",
              "Name: TP_ESCOLA, dtype: float64"
            ]
          },
          "metadata": {},
          "execution_count": 20
        }
      ]
    },
    {
      "cell_type": "code",
      "source": [
        "df[df['TP_ESCOLA'] != 1]['TP_ESCOLA'].value_counts(normalize=True)[:5]"
      ],
      "metadata": {
        "colab": {
          "base_uri": "https://localhost:8080/"
        },
        "id": "_y3JRC3M1MlC",
        "outputId": "33d28b8c-4560-474a-cb00-f532ab697f17"
      },
      "execution_count": null,
      "outputs": [
        {
          "output_type": "execute_result",
          "data": {
            "text/plain": [
              "2    0.850854\n",
              "3    0.149146\n",
              "Name: TP_ESCOLA, dtype: float64"
            ]
          },
          "metadata": {},
          "execution_count": 23
        }
      ]
    },
    {
      "cell_type": "code",
      "source": [
        "ausentes[ausentes['TP_ESCOLA'] != 1]['TP_ESCOLA'].value_counts(normalize=True)[:5]"
      ],
      "metadata": {
        "colab": {
          "base_uri": "https://localhost:8080/"
        },
        "id": "bD4VylAD1Vh3",
        "outputId": "0d2bfe8f-3b09-4c8e-a645-219f20884e6e"
      },
      "execution_count": null,
      "outputs": [
        {
          "output_type": "execute_result",
          "data": {
            "text/plain": [
              "2    0.954968\n",
              "3    0.045032\n",
              "Name: TP_ESCOLA, dtype: float64"
            ]
          },
          "metadata": {},
          "execution_count": 24
        }
      ]
    },
    {
      "cell_type": "markdown",
      "source": [
        "67% dos inscritos não informaram o tipo de escola e 80% dos ausentes também não. Eliminando essa opção, analisamos apenas os que informaram o tipo de escola.\n",
        "\n",
        "Entre os inscritos, 85% são de escola pública e 14,9% são de escola particular. Entre os ausentes, 95% são de escola pública e 4,5% são de escola particular.\n",
        "\n",
        "Pelas propoções, temos indício que as distribuições dos tipos de escola são diferentes entre o total de inscritos e os ausentes. Portanto seria uma característica relevante para a análise. Porém, com uma porcentagem tão alta sem informação é preciso analisar mais."
      ],
      "metadata": {
        "id": "uYO1ilsvz22C"
      }
    },
    {
      "cell_type": "markdown",
      "source": [
        "####UF da escola em que fez a prova"
      ],
      "metadata": {
        "id": "la52hnho2yPw"
      }
    },
    {
      "cell_type": "code",
      "source": [
        "data = [df['SG_UF_PROVA'], ausentes['SG_UF_PROVA']]\n",
        " \n",
        "fig = plt.figure(figsize =(10, 7))\n",
        "ax = fig.add_axes([0, 0, 2, 0.5])\n",
        "bp = ax.hist(data, bins=27, density = True)\n",
        "plt.show()"
      ],
      "metadata": {
        "colab": {
          "base_uri": "https://localhost:8080/",
          "height": 396
        },
        "id": "vakK8OIVx2nt",
        "outputId": "a2449d5d-d71b-4652-f1ea-2371914b7be2"
      },
      "execution_count": null,
      "outputs": [
        {
          "output_type": "stream",
          "name": "stderr",
          "text": [
            "/usr/local/lib/python3.8/dist-packages/numpy/core/fromnumeric.py:3208: VisibleDeprecationWarning: Creating an ndarray from ragged nested sequences (which is a list-or-tuple of lists-or-tuples-or ndarrays with different lengths or shapes) is deprecated. If you meant to do this, you must specify 'dtype=object' when creating the ndarray.\n",
            "  return asarray(a).size\n",
            "/usr/local/lib/python3.8/dist-packages/matplotlib/cbook/__init__.py:1376: VisibleDeprecationWarning: Creating an ndarray from ragged nested sequences (which is a list-or-tuple of lists-or-tuples-or ndarrays with different lengths or shapes) is deprecated. If you meant to do this, you must specify 'dtype=object' when creating the ndarray.\n",
            "  X = np.atleast_1d(X.T if isinstance(X, np.ndarray) else np.asarray(X))\n"
          ]
        },
        {
          "output_type": "display_data",
          "data": {
            "text/plain": [
              "<Figure size 720x504 with 1 Axes>"
            ],
            "image/png": "[encoded data removed]"
          },
          "metadata": {
            "needs_background": "light"
          }
        }
      ]
    },
    {
      "cell_type": "code",
      "source": [
        "df['SG_UF_PROVA'].value_counts(normalize=True)[:10]"
      ],
      "metadata": {
        "colab": {
          "base_uri": "https://localhost:8080/"
        },
        "id": "kWJws32a28hH",
        "outputId": "5662df52-faaf-41a9-8da2-3d347dee13e5"
      },
      "execution_count": null,
      "outputs": [
        {
          "output_type": "execute_result",
          "data": {
            "text/plain": [
              "SP    0.161130\n",
              "MG    0.103915\n",
              "BA    0.077817\n",
              "RJ    0.067427\n",
              "CE    0.056606\n",
              "PA    0.055893\n",
              "PE    0.053320\n",
              "MA    0.043526\n",
              "RS    0.042971\n",
              "PR    0.041199\n",
              "Name: SG_UF_PROVA, dtype: float64"
            ]
          },
          "metadata": {},
          "execution_count": 42
        }
      ]
    },
    {
      "cell_type": "code",
      "source": [
        "ausentes['SG_UF_PROVA'].value_counts(normalize=True)[:10]"
      ],
      "metadata": {
        "colab": {
          "base_uri": "https://localhost:8080/"
        },
        "id": "q2_gmzNs4BoI",
        "outputId": "d16c98d3-fbc4-469f-da1f-3b37174a9850"
      },
      "execution_count": null,
      "outputs": [
        {
          "output_type": "execute_result",
          "data": {
            "text/plain": [
              "SP    0.169017\n",
              "MG    0.103934\n",
              "BA    0.077120\n",
              "RJ    0.067990\n",
              "CE    0.053396\n",
              "PA    0.052496\n",
              "PE    0.049587\n",
              "RS    0.045157\n",
              "PR    0.042821\n",
              "MA    0.039602\n",
              "Name: SG_UF_PROVA, dtype: float64"
            ]
          },
          "metadata": {},
          "execution_count": 41
        }
      ]
    },
    {
      "cell_type": "markdown",
      "source": [
        "Pelo histograma, podemos perceber que há alguns estados com uma proporção de ausentes maior que a de inscritos, como SP, MT, PR, DF, RS, SC, AM, RJ, GO, MS, RO e ES. E outros com menor proporção de ausentes que a de inscritos, como BA, CE, RN, PE, MA, PA, PB, PI, SE e AL.\n",
        "\n",
        "Portanto esta é uma variável relevante para esta análise. "
      ],
      "metadata": {
        "id": "WEzQ6zPK5AWI"
      }
    },
    {
      "cell_type": "markdown",
      "source": [
        "####Renda"
      ],
      "metadata": {
        "id": "uaW1pASI6GBg"
      }
    },
    {
      "cell_type": "code",
      "source": [
        "data = [df['Q006'], ausentes['Q006']]\n",
        " \n",
        "fig = plt.figure(figsize =(10, 7))\n",
        "ax = fig.add_axes([0, 0, 2, 0.5])\n",
        "bp = ax.hist(data, bins=17, density = True)\n",
        "plt.show()"
      ],
      "metadata": {
        "colab": {
          "base_uri": "https://localhost:8080/",
          "height": 300
        },
        "id": "-CyDz9-Q4Gyg",
        "outputId": "8ffbcc3f-1326-4ec6-f8e8-942f96d60f95"
      },
      "execution_count": null,
      "outputs": [
        {
          "output_type": "display_data",
          "data": {
            "text/plain": [
              "<Figure size 720x504 with 1 Axes>"
            ],
            "image/png": "[encoded data removed]"
          },
          "metadata": {
            "needs_background": "light"
          }
        }
      ]
    },
    {
      "cell_type": "markdown",
      "source": [
        "Nesse caso, é possível perceber que, em rendas maiores, a proporção de ausentes é menor. "
      ],
      "metadata": {
        "id": "1Vf08Zx_6qqX"
      }
    },
    {
      "cell_type": "markdown",
      "source": [
        "####Número de pessoas na casa"
      ],
      "metadata": {
        "id": "2ZRYVeko6xW3"
      }
    },
    {
      "cell_type": "code",
      "source": [
        "data = [df['Q005'], ausentes['Q005']]\n",
        " \n",
        "fig = plt.figure(figsize =(10, 7))\n",
        "ax = fig.add_axes([0, 0, 2, 0.5])\n",
        "bp = ax.hist(data, bins=20, density = True)\n",
        "plt.show()"
      ],
      "metadata": {
        "colab": {
          "base_uri": "https://localhost:8080/",
          "height": 300
        },
        "id": "Y9nE5fSk6MiE",
        "outputId": "4a40b35e-7362-45ee-ee4e-bd77063d9e4f"
      },
      "execution_count": null,
      "outputs": [
        {
          "output_type": "display_data",
          "data": {
            "text/plain": [
              "<Figure size 720x504 with 1 Axes>"
            ],
            "image/png": "[encoded data removed]"
          },
          "metadata": {
            "needs_background": "light"
          }
        }
      ]
    },
    {
      "cell_type": "code",
      "source": [
        "df['Q005'].value_counts(normalize=True)[:5]"
      ],
      "metadata": {
        "colab": {
          "base_uri": "https://localhost:8080/"
        },
        "id": "tYr26Qsg63rM",
        "outputId": "b84605ae-454d-4cfc-b796-bd32d94e63a8"
      },
      "execution_count": null,
      "outputs": [
        {
          "output_type": "execute_result",
          "data": {
            "text/plain": [
              "4    0.310692\n",
              "3    0.253269\n",
              "5    0.162217\n",
              "2    0.133573\n",
              "6    0.061410\n",
              "Name: Q005, dtype: float64"
            ]
          },
          "metadata": {},
          "execution_count": 53
        }
      ]
    },
    {
      "cell_type": "code",
      "source": [
        "ausentes['Q005'].value_counts(normalize=True)[:5]"
      ],
      "metadata": {
        "colab": {
          "base_uri": "https://localhost:8080/"
        },
        "id": "pCuFyrXj7DUD",
        "outputId": "58ca1530-53b5-43ea-df5b-d79ef6fd7995"
      },
      "execution_count": null,
      "outputs": [
        {
          "output_type": "execute_result",
          "data": {
            "text/plain": [
              "4    0.275224\n",
              "3    0.253028\n",
              "2    0.160991\n",
              "5    0.151625\n",
              "6    0.061670\n",
              "Name: Q005, dtype: float64"
            ]
          },
          "metadata": {},
          "execution_count": 54
        }
      ]
    },
    {
      "cell_type": "markdown",
      "source": [
        "Aqui, percebemos que pessoas que moram sozinhas ou com mais 1 pessoa se ausentam mais."
      ],
      "metadata": {
        "id": "fRysgmvt85pJ"
      }
    },
    {
      "cell_type": "markdown",
      "source": [
        "####Internet"
      ],
      "metadata": {
        "id": "ww95IdmG9Gxa"
      }
    },
    {
      "cell_type": "code",
      "source": [
        "data = [df['Q025'], ausentes['Q025']]\n",
        " \n",
        "fig = plt.figure(figsize =(10, 7))\n",
        "ax = fig.add_axes([0, 0, 1, 0.5])\n",
        "bp = ax.hist(data, bins=2, density = True)\n",
        "plt.show()"
      ],
      "metadata": {
        "colab": {
          "base_uri": "https://localhost:8080/",
          "height": 291
        },
        "id": "VeWar-UQ8jGE",
        "outputId": "9282550f-7433-4316-fad1-ea8e41dda318"
      },
      "execution_count": null,
      "outputs": [
        {
          "output_type": "display_data",
          "data": {
            "text/plain": [
              "<Figure size 720x504 with 1 Axes>"
            ],
            "image/png": "[encoded data removed]"
          },
          "metadata": {
            "needs_background": "light"
          }
        }
      ]
    },
    {
      "cell_type": "code",
      "source": [
        "df['Q025'].value_counts(normalize=True)[:5]"
      ],
      "metadata": {
        "colab": {
          "base_uri": "https://localhost:8080/"
        },
        "id": "iwdGDF_79L33",
        "outputId": "a55cac82-ce8f-46c4-8864-dc4e096d2842"
      },
      "execution_count": null,
      "outputs": [
        {
          "output_type": "execute_result",
          "data": {
            "text/plain": [
              "B    0.766472\n",
              "A    0.233528\n",
              "Name: Q025, dtype: float64"
            ]
          },
          "metadata": {},
          "execution_count": 60
        }
      ]
    },
    {
      "cell_type": "code",
      "source": [
        "ausentes['Q025'].value_counts(normalize=True)[:5]"
      ],
      "metadata": {
        "colab": {
          "base_uri": "https://localhost:8080/"
        },
        "id": "IBL0iq8F9kbs",
        "outputId": "4672a6b8-636c-46c7-c252-3110ecf299bd"
      },
      "execution_count": null,
      "outputs": [
        {
          "output_type": "execute_result",
          "data": {
            "text/plain": [
              "B    0.739252\n",
              "A    0.260748\n",
              "Name: Q025, dtype: float64"
            ]
          },
          "metadata": {},
          "execution_count": 61
        }
      ]
    },
    {
      "cell_type": "markdown",
      "source": [
        "Aqui, temos que pessoas com internet em casa se ausentam menos. \n",
        "\n",
        "Entre os inscritos, 76,6% têm acesso à internet em casa e 23% não. Entre os ausentes, 74% têm acesso à internet em casa e 26% não."
      ],
      "metadata": {
        "id": "yKvoogc89q1v"
      }
    },
    {
      "cell_type": "markdown",
      "source": [
        "##Agrupamento de perfis de ausentes"
      ],
      "metadata": {
        "id": "2bwpUfqU-HI4"
      }
    },
    {
      "cell_type": "markdown",
      "source": [
        "A partir da análise descritiva das variáveis acima, pretendemos rodar um modelo de agrupamento para tentar encontrar grandes perfis de pessoas que se inscrevem para fazer a prova do ENEM e por algum motivo acabam se ausentando."
      ],
      "metadata": {
        "id": "x337Yd6--MYv"
      }
    },
    {
      "cell_type": "code",
      "source": [
        "import numpy as np"
      ],
      "metadata": {
        "id": "gTlxwAsrXDnF"
      },
      "execution_count": 123,
      "outputs": []
    },
    {
      "cell_type": "code",
      "source": [
        "data = df[['NU_INSCRICAO', 'TP_FAIXA_ETARIA', 'TP_ESTADO_CIVIL', 'TP_COR_RACA',\n",
        "          'TP_ESCOLA', 'SG_UF_PROVA', 'Q005', 'Q006', 'Q025', 'presenca']]\n",
        "data = data[data['presenca'] != 2]          "
      ],
      "metadata": {
        "id": "GQm4Ep17Lg5v"
      },
      "execution_count": 140,
      "outputs": []
    },
    {
      "cell_type": "code",
      "source": [
        "data['TP_FAIXA_ETARIA'] = data.TP_FAIXA_ETARIA.astype('category')\n",
        "data['TP_ESTADO_CIVIL'] = data.TP_ESTADO_CIVIL.astype('category')\n",
        "data['TP_COR_RACA'] = data.TP_COR_RACA.astype('category')\n",
        "data['TP_ESCOLA'] = data.TP_ESCOLA.astype('category')\n",
        "data['SG_UF_PROVA'], uniques = pd.factorize(data['SG_UF_PROVA'])\n",
        "data['Q006'], uniques = pd.factorize(data['Q006'])\n",
        "data['Q025'], uniques = pd.factorize(data['Q025'])"
      ],
      "metadata": {
        "id": "q3W_OlQKOSnV"
      },
      "execution_count": 141,
      "outputs": []
    },
    {
      "cell_type": "code",
      "source": [
        "y = data['presenca']\n",
        "x = data.drop(columns=['presenca', 'NU_INSCRICAO'],axis=1)"
      ],
      "metadata": {
        "id": "Bt724xXJMBj3"
      },
      "execution_count": 142,
      "outputs": []
    },
    {
      "cell_type": "markdown",
      "source": [
        "####Feature Selection"
      ],
      "metadata": {
        "id": "WcgBsGO6QQ8l"
      }
    },
    {
      "cell_type": "code",
      "source": [
        "from sklearn.feature_selection import SelectKBest\n",
        "from sklearn.feature_selection import f_classif\n",
        "algo = SelectKBest(score_func=f_classif, k=3)\n",
        "a = algo.fit_transform(x,y)\n",
        "algo.scores_"
      ],
      "metadata": {
        "id": "GgIe-QEt9nQ5",
        "colab": {
          "base_uri": "https://localhost:8080/"
        },
        "outputId": "446c0772-25da-4c35-ceb6-4d38764293c5"
      },
      "execution_count": 106,
      "outputs": [
        {
          "output_type": "execute_result",
          "data": {
            "text/plain": [
              "array([2.71527471e+05, 1.93433118e+04, 2.11501045e+03, 1.80472010e+05,\n",
              "       6.49437895e+01, 7.45147626e+03, 3.00822480e+04, 7.57614101e+03])"
            ]
          },
          "metadata": {},
          "execution_count": 106
        }
      ]
    },
    {
      "cell_type": "code",
      "source": [
        "algo.scores_/sum(algo.scores_)"
      ],
      "metadata": {
        "colab": {
          "base_uri": "https://localhost:8080/"
        },
        "id": "OtT4nkEBMGwi",
        "outputId": "0d99abf6-737f-4349-ec8e-8e432fe77fd6"
      },
      "execution_count": 107,
      "outputs": [
        {
          "output_type": "execute_result",
          "data": {
            "text/plain": [
              "array([5.23544923e-01, 3.72967517e-02, 4.07805140e-03, 3.47976594e-01,\n",
              "       1.25221183e-04, 1.43675428e-02, 5.80030011e-02, 1.46079148e-02])"
            ]
          },
          "metadata": {},
          "execution_count": 107
        }
      ]
    },
    {
      "cell_type": "markdown",
      "source": [
        "Através da ferramento de Feature Selection do Sklearn, elencamos as principais variáveis que servirão para nosso agrupamento e as respectivas proporções de informação. \n",
        "\n",
        "Na ordem:\n",
        "\n",
        "'TP_FAIXA_ETARIA' (faixa etária) 52,3%,\n",
        "\n",
        "'TP_ESCOLA' (tipo de escola) 34,8%,\n",
        "\n",
        "'Q006' (renda) 5,8%,\n",
        "\n",
        "'TP_ESTADO_CIVIL' (estado civil) 3,7%,\n",
        "\n",
        "'Q025' (internet em casa) 1,4%,\n",
        "\n",
        "'Q005' (número de pessoas em casa) 1,4%,\n",
        "\n",
        "'TP_COR_RACA' (cor/raça) 0,4%,\n",
        "\n",
        "'SG_UF_PROVA' (UF da realização da prova) 0,0%\n",
        "\n",
        "\n",
        "\n"
      ],
      "metadata": {
        "id": "7ovag6VQQMH-"
      }
    },
    {
      "cell_type": "markdown",
      "source": [
        "####Definição de clusters dos ausentes"
      ],
      "metadata": {
        "id": "K_BGhmtuS-H2"
      }
    },
    {
      "cell_type": "code",
      "source": [
        "data2 = df[['NU_INSCRICAO', 'TP_FAIXA_ETARIA', 'TP_ESTADO_CIVIL', 'TP_COR_RACA',\n",
        "          'TP_ESCOLA', 'SG_UF_PROVA', 'Q005', 'Q006', 'Q025', 'presenca']]\n",
        "data2 = data2[data2['presenca'] == 0]          "
      ],
      "metadata": {
        "id": "iCtyByc6bSb_"
      },
      "execution_count": 171,
      "outputs": []
    },
    {
      "cell_type": "code",
      "source": [
        "dataausentes['TP_FAIXA_ETARIA'] = data2.TP_FAIXA_ETARIA.astype('category')\n",
        "dataausentes['TP_ESTADO_CIVIL'] = data2.TP_ESTADO_CIVIL.astype('category')\n",
        "dataausentes['TP_COR_RACA'] = data2.TP_COR_RACA.astype('category')\n",
        "dataausentes['TP_ESCOLA'] = data2.TP_ESCOLA.astype('category')\n",
        "dataausentes['SG_UF_PROVA'], uniques = pd.factorize(data2['SG_UF_PROVA'])\n",
        "dataausentes['Q006'], uniques = pd.factorize(data2['Q006'])\n",
        "dataausentes['Q025'], uniques = pd.factorize(data2['Q025'])"
      ],
      "metadata": {
        "id": "k0NHLlVgbd3O"
      },
      "execution_count": 157,
      "outputs": []
    },
    {
      "cell_type": "code",
      "source": [
        "y = dataausentes['presenca']\n",
        "x = dataausentes.drop(columns=['presenca', 'NU_INSCRICAO'],axis=1)"
      ],
      "metadata": {
        "id": "PBDndf7Bbm_O"
      },
      "execution_count": 158,
      "outputs": []
    },
    {
      "cell_type": "code",
      "source": [
        "from sklearn.preprocessing import MinMaxScaler\n",
        "norm = MinMaxScaler()\n",
        "xnorm = norm.fit_transform(x)"
      ],
      "metadata": {
        "id": "U86jioZlRvGi"
      },
      "execution_count": 159,
      "outputs": []
    },
    {
      "cell_type": "code",
      "source": [
        "from sklearn.cluster import KMeans"
      ],
      "metadata": {
        "id": "6IlS0M_CR-q9"
      },
      "execution_count": 160,
      "outputs": []
    },
    {
      "cell_type": "code",
      "source": [
        "modelo = KMeans(n_clusters = 3)\n",
        "modelo.fit(xnorm)"
      ],
      "metadata": {
        "colab": {
          "base_uri": "https://localhost:8080/"
        },
        "id": "y1qyxBsMTUep",
        "outputId": "cd4b27d4-8d43-4d61-a730-8e014a9f267a"
      },
      "execution_count": 161,
      "outputs": [
        {
          "output_type": "execute_result",
          "data": {
            "text/plain": [
              "KMeans(n_clusters=3)"
            ]
          },
          "metadata": {},
          "execution_count": 161
        }
      ]
    },
    {
      "cell_type": "code",
      "source": [
        "clusters = modelo.predict(xnorm)\n",
        "clusters"
      ],
      "metadata": {
        "colab": {
          "base_uri": "https://localhost:8080/"
        },
        "id": "AJ5_Z4qVTkiR",
        "outputId": "751c6543-c49e-4ab1-95d0-495085a8fb41"
      },
      "execution_count": 162,
      "outputs": [
        {
          "output_type": "execute_result",
          "data": {
            "text/plain": [
              "array([0, 0, 0, ..., 1, 1, 1], dtype=int32)"
            ]
          },
          "metadata": {},
          "execution_count": 162
        }
      ]
    },
    {
      "cell_type": "code",
      "source": [
        "dataausentes['clusters'] = clusters"
      ],
      "metadata": {
        "id": "UEcpKahOUZt5"
      },
      "execution_count": 164,
      "outputs": []
    },
    {
      "cell_type": "code",
      "source": [
        "dataausentes.head()"
      ],
      "metadata": {
        "colab": {
          "base_uri": "https://localhost:8080/",
          "height": 206
        },
        "id": "y0ynvguaY4NQ",
        "outputId": "7a9c1377-dada-4729-c7b0-0956d2aea847"
      },
      "execution_count": 166,
      "outputs": [
        {
          "output_type": "execute_result",
          "data": {
            "text/plain": [
              "   NU_INSCRICAO TP_FAIXA_ETARIA TP_ESTADO_CIVIL TP_COR_RACA TP_ESCOLA  \\\n",
              "0  190001595656              13               1           3         1   \n",
              "1  190001421546               8               1           1         1   \n",
              "2  190001133210              13               1           3         1   \n",
              "7  190001595657               5               1           3         1   \n",
              "8  190001592264               5               1           1         1   \n",
              "\n",
              "   SG_UF_PROVA  Q005  Q006  Q025  presenca  clusters  \n",
              "0            0     2     0     0         0         0  \n",
              "1            1     4     1     0         0         0  \n",
              "2            2     2     2     0         0         0  \n",
              "7            0     2     3     0         0         0  \n",
              "8            0     6     1     1         0         2  "
            ],
            "text/html": [
              "\n",
              "  <div id=\"df-05e85e47-e583-4dc8-b84b-98488644b2aa\">\n",
              "    <div class=\"colab-df-container\">\n",
              "      <div>\n",
              "<style scoped>\n",
              "    .dataframe tbody tr th:only-of-type {\n",
              "        vertical-align: middle;\n",
              "    }\n",
              "\n",
              "    .dataframe tbody tr th {\n",
              "        vertical-align: top;\n",
              "    }\n",
              "\n",
              "    .dataframe thead th {\n",
              "        text-align: right;\n",
              "    }\n",
              "</style>\n",
              "<table border=\"1\" class=\"dataframe\">\n",
              "  <thead>\n",
              "    <tr style=\"text-align: right;\">\n",
              "      <th></th>\n",
              "      <th>NU_INSCRICAO</th>\n",
              "      <th>TP_FAIXA_ETARIA</th>\n",
              "      <th>TP_ESTADO_CIVIL</th>\n",
              "      <th>TP_COR_RACA</th>\n",
              "      <th>TP_ESCOLA</th>\n",
              "      <th>SG_UF_PROVA</th>\n",
              "      <th>Q005</th>\n",
              "      <th>Q006</th>\n",
              "      <th>Q025</th>\n",
              "      <th>presenca</th>\n",
              "      <th>clusters</th>\n",
              "    </tr>\n",
              "  </thead>\n",
              "  <tbody>\n",
              "    <tr>\n",
              "      <th>0</th>\n",
              "      <td>190001595656</td>\n",
              "      <td>13</td>\n",
              "      <td>1</td>\n",
              "      <td>3</td>\n",
              "      <td>1</td>\n",
              "      <td>0</td>\n",
              "      <td>2</td>\n",
              "      <td>0</td>\n",
              "      <td>0</td>\n",
              "      <td>0</td>\n",
              "      <td>0</td>\n",
              "    </tr>\n",
              "    <tr>\n",
              "      <th>1</th>\n",
              "      <td>190001421546</td>\n",
              "      <td>8</td>\n",
              "      <td>1</td>\n",
              "      <td>1</td>\n",
              "      <td>1</td>\n",
              "      <td>1</td>\n",
              "      <td>4</td>\n",
              "      <td>1</td>\n",
              "      <td>0</td>\n",
              "      <td>0</td>\n",
              "      <td>0</td>\n",
              "    </tr>\n",
              "    <tr>\n",
              "      <th>2</th>\n",
              "      <td>190001133210</td>\n",
              "      <td>13</td>\n",
              "      <td>1</td>\n",
              "      <td>3</td>\n",
              "      <td>1</td>\n",
              "      <td>2</td>\n",
              "      <td>2</td>\n",
              "      <td>2</td>\n",
              "      <td>0</td>\n",
              "      <td>0</td>\n",
              "      <td>0</td>\n",
              "    </tr>\n",
              "    <tr>\n",
              "      <th>7</th>\n",
              "      <td>190001595657</td>\n",
              "      <td>5</td>\n",
              "      <td>1</td>\n",
              "      <td>3</td>\n",
              "      <td>1</td>\n",
              "      <td>0</td>\n",
              "      <td>2</td>\n",
              "      <td>3</td>\n",
              "      <td>0</td>\n",
              "      <td>0</td>\n",
              "      <td>0</td>\n",
              "    </tr>\n",
              "    <tr>\n",
              "      <th>8</th>\n",
              "      <td>190001592264</td>\n",
              "      <td>5</td>\n",
              "      <td>1</td>\n",
              "      <td>1</td>\n",
              "      <td>1</td>\n",
              "      <td>0</td>\n",
              "      <td>6</td>\n",
              "      <td>1</td>\n",
              "      <td>1</td>\n",
              "      <td>0</td>\n",
              "      <td>2</td>\n",
              "    </tr>\n",
              "  </tbody>\n",
              "</table>\n",
              "</div>\n",
              "      <button class=\"colab-df-convert\" onclick=\"convertToInteractive('df-05e85e47-e583-4dc8-b84b-98488644b2aa')\"\n",
              "              title=\"Convert this dataframe to an interactive table.\"\n",
              "              style=\"display:none;\">\n",
              "        \n",
              "  <svg xmlns=\"http://www.w3.org/2000/svg\" height=\"24px\"viewBox=\"0 0 24 24\"\n",
              "       width=\"24px\">\n",
              "    <path d=\"M0 0h24v24H0V0z\" fill=\"none\"/>\n",
              "    <path d=\"M18.56 5.44l.94 2.06.94-2.06 2.06-.94-2.06-.94-.94-2.06-.94 2.06-2.06.94zm-11 1L8.5 8.5l.94-2.06 2.06-.94-2.06-.94L8.5 2.5l-.94 2.06-2.06.94zm10 10l.94 2.06.94-2.06 2.06-.94-2.06-.94-.94-2.06-.94 2.06-2.06.94z\"/><path d=\"M17.41 7.96l-1.37-1.37c-.4-.4-.92-.59-1.43-.59-.52 0-1.04.2-1.43.59L10.3 9.45l-7.72 7.72c-.78.78-.78 2.05 0 2.83L4 21.41c.39.39.9.59 1.41.59.51 0 1.02-.2 1.41-.59l7.78-7.78 2.81-2.81c.8-.78.8-2.07 0-2.86zM5.41 20L4 18.59l7.72-7.72 1.47 1.35L5.41 20z\"/>\n",
              "  </svg>\n",
              "      </button>\n",
              "      \n",
              "  <style>\n",
              "    .colab-df-container {\n",
              "      display:flex;\n",
              "      flex-wrap:wrap;\n",
              "      gap: 12px;\n",
              "    }\n",
              "\n",
              "    .colab-df-convert {\n",
              "      background-color: #E8F0FE;\n",
              "      border: none;\n",
              "      border-radius: 50%;\n",
              "      cursor: pointer;\n",
              "      display: none;\n",
              "      fill: #1967D2;\n",
              "      height: 32px;\n",
              "      padding: 0 0 0 0;\n",
              "      width: 32px;\n",
              "    }\n",
              "\n",
              "    .colab-df-convert:hover {\n",
              "      background-color: #E2EBFA;\n",
              "      box-shadow: 0px 1px 2px rgba(60, 64, 67, 0.3), 0px 1px 3px 1px rgba(60, 64, 67, 0.15);\n",
              "      fill: #174EA6;\n",
              "    }\n",
              "\n",
              "    [theme=dark] .colab-df-convert {\n",
              "      background-color: #3B4455;\n",
              "      fill: #D2E3FC;\n",
              "    }\n",
              "\n",
              "    [theme=dark] .colab-df-convert:hover {\n",
              "      background-color: #434B5C;\n",
              "      box-shadow: 0px 1px 3px 1px rgba(0, 0, 0, 0.15);\n",
              "      filter: drop-shadow(0px 1px 2px rgba(0, 0, 0, 0.3));\n",
              "      fill: #FFFFFF;\n",
              "    }\n",
              "  </style>\n",
              "\n",
              "      <script>\n",
              "        const buttonEl =\n",
              "          document.querySelector('#df-05e85e47-e583-4dc8-b84b-98488644b2aa button.colab-df-convert');\n",
              "        buttonEl.style.display =\n",
              "          google.colab.kernel.accessAllowed ? 'block' : 'none';\n",
              "\n",
              "        async function convertToInteractive(key) {\n",
              "          const element = document.querySelector('#df-05e85e47-e583-4dc8-b84b-98488644b2aa');\n",
              "          const dataTable =\n",
              "            await google.colab.kernel.invokeFunction('convertToInteractive',\n",
              "                                                     [key], {});\n",
              "          if (!dataTable) return;\n",
              "\n",
              "          const docLinkHtml = 'Like what you see? Visit the ' +\n",
              "            '<a target=\"_blank\" href=https://colab.research.google.com/notebooks/data_table.ipynb>data table notebook</a>'\n",
              "            + ' to learn more about interactive tables.';\n",
              "          element.innerHTML = '';\n",
              "          dataTable['output_type'] = 'display_data';\n",
              "          await google.colab.output.renderOutput(dataTable, element);\n",
              "          const docLink = document.createElement('div');\n",
              "          docLink.innerHTML = docLinkHtml;\n",
              "          element.appendChild(docLink);\n",
              "        }\n",
              "      </script>\n",
              "    </div>\n",
              "  </div>\n",
              "  "
            ]
          },
          "metadata": {},
          "execution_count": 166
        }
      ]
    },
    {
      "cell_type": "code",
      "source": [
        "data3 = dataausentes[['NU_INSCRICAO', 'clusters']]"
      ],
      "metadata": {
        "id": "Cw_xzaR7d_n9"
      },
      "execution_count": 173,
      "outputs": []
    },
    {
      "cell_type": "code",
      "source": [
        "datafim = data2.set_index(\"NU_INSCRICAO\").join(data3.set_index(\"NU_INSCRICAO\"), on=\"NU_INSCRICAO\")"
      ],
      "metadata": {
        "id": "IoTuNiRDcor2"
      },
      "execution_count": 177,
      "outputs": []
    },
    {
      "cell_type": "code",
      "source": [
        "grupo0 = datafim[datafim['clusters']==0]\n",
        "grupo1 = datafim[datafim['clusters']==1]\n",
        "grupo2 = datafim[datafim['clusters']==2]"
      ],
      "metadata": {
        "id": "_lAdi_37ZgGB"
      },
      "execution_count": 180,
      "outputs": []
    },
    {
      "cell_type": "code",
      "source": [
        "for col in ['TP_FAIXA_ETARIA', 'TP_ESTADO_CIVIL', 'TP_COR_RACA',\n",
        "          'TP_ESCOLA', 'SG_UF_PROVA', 'Q005', 'Q006', 'Q025']:\n",
        "    print(grupo0[col].value_counts(normalize=True)[:3])"
      ],
      "metadata": {
        "colab": {
          "base_uri": "https://localhost:8080/"
        },
        "id": "NOVUHM9QbBze",
        "outputId": "64f8149e-dc14-4f42-9f20-3d1c2848d635"
      },
      "execution_count": 186,
      "outputs": [
        {
          "output_type": "stream",
          "name": "stdout",
          "text": [
            "3     0.137252\n",
            "4     0.120871\n",
            "11    0.118868\n",
            "Name: TP_FAIXA_ETARIA, dtype: float64\n",
            "1    0.802719\n",
            "2    0.120452\n",
            "0    0.050938\n",
            "Name: TP_ESTADO_CIVIL, dtype: float64\n",
            "3    0.422892\n",
            "1    0.385060\n",
            "2    0.143403\n",
            "Name: TP_COR_RACA, dtype: float64\n",
            "1    0.779929\n",
            "2    0.204267\n",
            "3    0.015804\n",
            "Name: TP_ESCOLA, dtype: float64\n",
            "SP    0.314027\n",
            "MG    0.183729\n",
            "BA    0.125365\n",
            "Name: SG_UF_PROVA, dtype: float64\n",
            "4    0.292237\n",
            "3    0.263976\n",
            "2    0.160463\n",
            "Name: Q005, dtype: float64\n",
            "C    0.291982\n",
            "B    0.199403\n",
            "D    0.121050\n",
            "Name: Q006, dtype: float64\n",
            "B    1.0\n",
            "Name: Q025, dtype: float64\n"
          ]
        }
      ]
    },
    {
      "cell_type": "code",
      "source": [
        "for col in ['TP_FAIXA_ETARIA', 'TP_ESTADO_CIVIL', 'TP_COR_RACA',\n",
        "          'TP_ESCOLA', 'SG_UF_PROVA', 'Q005', 'Q006', 'Q025']:\n",
        "    print(grupo1[col].value_counts(normalize=True)[:3])"
      ],
      "metadata": {
        "colab": {
          "base_uri": "https://localhost:8080/"
        },
        "id": "tXPmeEm6bHnp",
        "outputId": "ba967bcb-03f8-4f80-dd20-1a715b97776d"
      },
      "execution_count": 187,
      "outputs": [
        {
          "output_type": "stream",
          "name": "stdout",
          "text": [
            "11    0.159894\n",
            "4     0.098353\n",
            "12    0.098277\n",
            "Name: TP_FAIXA_ETARIA, dtype: float64\n",
            "1    0.737552\n",
            "2    0.164668\n",
            "0    0.063981\n",
            "Name: TP_ESTADO_CIVIL, dtype: float64\n",
            "3    0.495073\n",
            "1    0.327087\n",
            "2    0.128207\n",
            "Name: TP_COR_RACA, dtype: float64\n",
            "1    0.893030\n",
            "2    0.103514\n",
            "3    0.003457\n",
            "Name: TP_ESCOLA, dtype: float64\n",
            "RJ    0.163989\n",
            "RS    0.130307\n",
            "GO    0.087019\n",
            "Name: SG_UF_PROVA, dtype: float64\n",
            "4    0.270875\n",
            "3    0.261198\n",
            "2    0.174063\n",
            "Name: Q005, dtype: float64\n",
            "C    0.314312\n",
            "B    0.222986\n",
            "D    0.117967\n",
            "Name: Q006, dtype: float64\n",
            "B    1.0\n",
            "Name: Q025, dtype: float64\n"
          ]
        }
      ]
    },
    {
      "cell_type": "code",
      "source": [
        "for col in ['TP_FAIXA_ETARIA', 'TP_ESTADO_CIVIL', 'TP_COR_RACA',\n",
        "          'TP_ESCOLA', 'SG_UF_PROVA', 'Q005', 'Q006', 'Q025']:\n",
        "    print(grupo2[col].value_counts(normalize=True)[:3])"
      ],
      "metadata": {
        "colab": {
          "base_uri": "https://localhost:8080/"
        },
        "id": "xTLHSrfVfCRZ",
        "outputId": "51435104-fdab-4166-fc13-588a5cbd4d4c"
      },
      "execution_count": 188,
      "outputs": [
        {
          "output_type": "stream",
          "name": "stdout",
          "text": [
            "11    0.147347\n",
            "4     0.104046\n",
            "3     0.103523\n",
            "Name: TP_FAIXA_ETARIA, dtype: float64\n",
            "1    0.796901\n",
            "2    0.114869\n",
            "0    0.059061\n",
            "Name: TP_ESTADO_CIVIL, dtype: float64\n",
            "3    0.580550\n",
            "1    0.204114\n",
            "2    0.159086\n",
            "Name: TP_COR_RACA, dtype: float64\n",
            "1    0.771957\n",
            "2    0.226602\n",
            "3    0.001441\n",
            "Name: TP_ESCOLA, dtype: float64\n",
            "PA    0.107411\n",
            "SP    0.099074\n",
            "MG    0.077318\n",
            "Name: SG_UF_PROVA, dtype: float64\n",
            "4    0.250200\n",
            "3    0.225008\n",
            "5    0.166419\n",
            "Name: Q005, dtype: float64\n",
            "B    0.461385\n",
            "C    0.292226\n",
            "A    0.114881\n",
            "Name: Q006, dtype: float64\n",
            "A    1.0\n",
            "Name: Q025, dtype: float64\n"
          ]
        }
      ]
    },
    {
      "cell_type": "markdown",
      "source": [],
      "metadata": {
        "id": "62vzqGizhApk"
      }
    }
  ]
}